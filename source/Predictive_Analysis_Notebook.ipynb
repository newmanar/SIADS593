{
 "cells": [
  {
   "cell_type": "markdown",
   "id": "3fc57e55-30bd-4757-8bf1-9c326fba12aa",
   "metadata": {},
   "source": [
    "## Adam Packer and Aaron Newman (08-apacker-newmanar)\n",
    "## SIADS 593 Final Report\n",
    "## Winter 2023\n",
    "## Predictive Analysis Notebook"
   ]
  },
  {
   "cell_type": "markdown",
   "id": "19236822-5a78-4c57-96ba-32e64935c0ef",
   "metadata": {},
   "source": [
    "# 0.1 - Import necessary modules"
   ]
  },
  {
   "cell_type": "code",
   "execution_count": 63,
   "id": "64bbab02-7c18-4632-b7ff-c73bb4e7f788",
   "metadata": {},
   "outputs": [],
   "source": [
    "import pandas as pd\n",
    "import pandas as pd\n",
    "import numpy as np\n",
    "import matplotlib.pyplot as plt\n",
    "from sklearn.linear_model import LinearRegression\n",
    "from statsmodels.tsa.api import VAR\n",
    "from statsmodels.tsa.stattools import adfuller\n",
    "from statsmodels.tools.eval_measures import rmse, aic\n",
    "import warnings\n",
    "warnings.filterwarnings('ignore')"
   ]
  },
  {
   "cell_type": "markdown",
   "id": "55a1826f-ed4d-4564-9eb4-abd88f0b4387",
   "metadata": {},
   "source": [
    "# 0.2 - Read in data previously compiled in Setup workbook"
   ]
  },
  {
   "cell_type": "code",
   "execution_count": 64,
   "id": "5d557055-d4bf-48c9-8e50-ee363f8d6f29",
   "metadata": {},
   "outputs": [
    {
     "data": {
      "text/html": [
       "<div>\n",
       "<style scoped>\n",
       "    .dataframe tbody tr th:only-of-type {\n",
       "        vertical-align: middle;\n",
       "    }\n",
       "\n",
       "    .dataframe tbody tr th {\n",
       "        vertical-align: top;\n",
       "    }\n",
       "\n",
       "    .dataframe thead th {\n",
       "        text-align: right;\n",
       "    }\n",
       "</style>\n",
       "<table border=\"1\" class=\"dataframe\">\n",
       "  <thead>\n",
       "    <tr style=\"text-align: right;\">\n",
       "      <th></th>\n",
       "      <th>date</th>\n",
       "      <th>location</th>\n",
       "      <th>loc_code</th>\n",
       "      <th>carrier</th>\n",
       "      <th>p_origin</th>\n",
       "      <th>p_dest</th>\n",
       "      <th>passengers</th>\n",
       "      <th>cases</th>\n",
       "      <th>deaths</th>\n",
       "    </tr>\n",
       "  </thead>\n",
       "  <tbody>\n",
       "    <tr>\n",
       "      <th>0</th>\n",
       "      <td>2020-03-01</td>\n",
       "      <td>USA</td>\n",
       "      <td>USA</td>\n",
       "      <td>ALL</td>\n",
       "      <td>34527687.0</td>\n",
       "      <td>34527687.0</td>\n",
       "      <td>34527687.0</td>\n",
       "      <td>184104.0</td>\n",
       "      <td>4199.0</td>\n",
       "    </tr>\n",
       "    <tr>\n",
       "      <th>1</th>\n",
       "      <td>2020-03-01</td>\n",
       "      <td>USA</td>\n",
       "      <td>USA</td>\n",
       "      <td>04Q</td>\n",
       "      <td>274.0</td>\n",
       "      <td>274.0</td>\n",
       "      <td>274.0</td>\n",
       "      <td>184104.0</td>\n",
       "      <td>4199.0</td>\n",
       "    </tr>\n",
       "    <tr>\n",
       "      <th>2</th>\n",
       "      <td>2020-03-01</td>\n",
       "      <td>USA</td>\n",
       "      <td>USA</td>\n",
       "      <td>09Q</td>\n",
       "      <td>26506.0</td>\n",
       "      <td>26506.0</td>\n",
       "      <td>26506.0</td>\n",
       "      <td>184104.0</td>\n",
       "      <td>4199.0</td>\n",
       "    </tr>\n",
       "    <tr>\n",
       "      <th>3</th>\n",
       "      <td>2020-03-01</td>\n",
       "      <td>USA</td>\n",
       "      <td>USA</td>\n",
       "      <td>1EQ</td>\n",
       "      <td>637.0</td>\n",
       "      <td>637.0</td>\n",
       "      <td>637.0</td>\n",
       "      <td>184104.0</td>\n",
       "      <td>4199.0</td>\n",
       "    </tr>\n",
       "    <tr>\n",
       "      <th>4</th>\n",
       "      <td>2020-03-01</td>\n",
       "      <td>USA</td>\n",
       "      <td>USA</td>\n",
       "      <td>1QQ</td>\n",
       "      <td>417.0</td>\n",
       "      <td>417.0</td>\n",
       "      <td>417.0</td>\n",
       "      <td>184104.0</td>\n",
       "      <td>4199.0</td>\n",
       "    </tr>\n",
       "    <tr>\n",
       "      <th>...</th>\n",
       "      <td>...</td>\n",
       "      <td>...</td>\n",
       "      <td>...</td>\n",
       "      <td>...</td>\n",
       "      <td>...</td>\n",
       "      <td>...</td>\n",
       "      <td>...</td>\n",
       "      <td>...</td>\n",
       "      <td>...</td>\n",
       "    </tr>\n",
       "    <tr>\n",
       "      <th>29474</th>\n",
       "      <td>2022-11-01</td>\n",
       "      <td>Salt Lake City, UT</td>\n",
       "      <td>SLC</td>\n",
       "      <td>OO</td>\n",
       "      <td>167276.0</td>\n",
       "      <td>168875.0</td>\n",
       "      <td>336151.0</td>\n",
       "      <td>5559.0</td>\n",
       "      <td>23.0</td>\n",
       "    </tr>\n",
       "    <tr>\n",
       "      <th>29475</th>\n",
       "      <td>2022-11-01</td>\n",
       "      <td>Salt Lake City, UT</td>\n",
       "      <td>SLC</td>\n",
       "      <td>SY</td>\n",
       "      <td>258.0</td>\n",
       "      <td>255.0</td>\n",
       "      <td>513.0</td>\n",
       "      <td>5559.0</td>\n",
       "      <td>23.0</td>\n",
       "    </tr>\n",
       "    <tr>\n",
       "      <th>29476</th>\n",
       "      <td>2022-11-01</td>\n",
       "      <td>Salt Lake City, UT</td>\n",
       "      <td>SLC</td>\n",
       "      <td>TQ</td>\n",
       "      <td>0.0</td>\n",
       "      <td>2.0</td>\n",
       "      <td>2.0</td>\n",
       "      <td>5559.0</td>\n",
       "      <td>23.0</td>\n",
       "    </tr>\n",
       "    <tr>\n",
       "      <th>29477</th>\n",
       "      <td>2022-11-01</td>\n",
       "      <td>Salt Lake City, UT</td>\n",
       "      <td>SLC</td>\n",
       "      <td>UA</td>\n",
       "      <td>11601.0</td>\n",
       "      <td>11734.0</td>\n",
       "      <td>23335.0</td>\n",
       "      <td>5559.0</td>\n",
       "      <td>23.0</td>\n",
       "    </tr>\n",
       "    <tr>\n",
       "      <th>29478</th>\n",
       "      <td>2022-11-01</td>\n",
       "      <td>Salt Lake City, UT</td>\n",
       "      <td>SLC</td>\n",
       "      <td>WN</td>\n",
       "      <td>104378.0</td>\n",
       "      <td>103848.0</td>\n",
       "      <td>208226.0</td>\n",
       "      <td>5559.0</td>\n",
       "      <td>23.0</td>\n",
       "    </tr>\n",
       "  </tbody>\n",
       "</table>\n",
       "<p>29479 rows × 9 columns</p>\n",
       "</div>"
      ],
      "text/plain": [
       "            date            location loc_code carrier    p_origin      p_dest  \\\n",
       "0     2020-03-01                 USA      USA     ALL  34527687.0  34527687.0   \n",
       "1     2020-03-01                 USA      USA     04Q       274.0       274.0   \n",
       "2     2020-03-01                 USA      USA     09Q     26506.0     26506.0   \n",
       "3     2020-03-01                 USA      USA     1EQ       637.0       637.0   \n",
       "4     2020-03-01                 USA      USA     1QQ       417.0       417.0   \n",
       "...          ...                 ...      ...     ...         ...         ...   \n",
       "29474 2022-11-01  Salt Lake City, UT      SLC      OO    167276.0    168875.0   \n",
       "29475 2022-11-01  Salt Lake City, UT      SLC      SY       258.0       255.0   \n",
       "29476 2022-11-01  Salt Lake City, UT      SLC      TQ         0.0         2.0   \n",
       "29477 2022-11-01  Salt Lake City, UT      SLC      UA     11601.0     11734.0   \n",
       "29478 2022-11-01  Salt Lake City, UT      SLC      WN    104378.0    103848.0   \n",
       "\n",
       "       passengers     cases  deaths  \n",
       "0      34527687.0  184104.0  4199.0  \n",
       "1           274.0  184104.0  4199.0  \n",
       "2         26506.0  184104.0  4199.0  \n",
       "3           637.0  184104.0  4199.0  \n",
       "4           417.0  184104.0  4199.0  \n",
       "...           ...       ...     ...  \n",
       "29474    336151.0    5559.0    23.0  \n",
       "29475       513.0    5559.0    23.0  \n",
       "29476         2.0    5559.0    23.0  \n",
       "29477     23335.0    5559.0    23.0  \n",
       "29478    208226.0    5559.0    23.0  \n",
       "\n",
       "[29479 rows x 9 columns]"
      ]
     },
     "execution_count": 64,
     "metadata": {},
     "output_type": "execute_result"
    }
   ],
   "source": [
    "compiled_df = pd.read_pickle('Compiled_data.pkl')\n",
    "\n",
    "compiled_df"
   ]
  },
  {
   "cell_type": "markdown",
   "id": "72e24b44-9af8-4411-af8f-c087faf75669",
   "metadata": {},
   "source": [
    "# 0.3 - Show a national overview of the data plotted over time"
   ]
  },
  {
   "cell_type": "markdown",
   "id": "663bbdac-9c6c-4468-b89b-f892685b36f4",
   "metadata": {},
   "source": [
    "To orient the reader for the predictive analysis to follow, this code displays the COVID-related deaths, reported cases, and air passenger counts from March 2020 through November 2022. Note the differences in scale for the three plots, and the various peaks and troughs in each."
   ]
  },
  {
   "cell_type": "code",
   "execution_count": 65,
   "id": "6d8cf5f3-4cde-4f55-89ad-d977bcdc1810",
   "metadata": {},
   "outputs": [
    {
     "data": {
      "image/png": "[encoded data removed]",
      "text/plain": [
       "<Figure size 640x480 with 3 Axes>"
      ]
     },
     "metadata": {},
     "output_type": "display_data"
    }
   ],
   "source": [
    "df_plot = compiled_df[(compiled_df.loc_code=='USA') & (compiled_df.carrier=='ALL')]\n",
    "df_plot.index=df_plot.date\n",
    "df_plot = df_plot[['passengers','cases','deaths']]\n",
    "fig, axs = plt.subplots(3,1, sharex=True)\n",
    "df_plot['deaths'].plot(ax=axs[0], title=\"Deaths Attributed to COVID-19\")\n",
    "df_plot['cases'].plot(ax=axs[1], title=\"Reported Cases of COVID-19\")\n",
    "df_plot['passengers'].plot(ax=axs[2], title=\"US Domestic Air Passengers\")\n",
    "plt.tight_layout()\n",
    "plt.show()"
   ]
  },
  {
   "cell_type": "markdown",
   "id": "ba5e959f-fc6e-401d-9e5e-a4198d34a86c",
   "metadata": {},
   "source": [
    "# 1.0 - Linear Regression"
   ]
  },
  {
   "cell_type": "markdown",
   "id": "8f7ec9b1-e949-4406-916e-c65387b08a30",
   "metadata": {},
   "source": [
    "This function uses scikit-learn to determine the fit of two series\n",
    "to a Linear Regression. This does not account for the temporal nature of the data.<br>\n",
    "<br><b><i>df</i></b> - the dataframe of data we want to compare\n",
    "<br><b><i>covid_column</i></b> - \"cases\" or \"deaths\"\n",
    "<br><b><i>numlag</i></b> - months of lag (allows 0 or 1)\n",
    "<br><b><i>loc_code</i></b> - location code (3 characters)\n",
    "<br><b><i>carrier</i></b> - air carrier code (2 or 3 characters)\n",
    "<br><b><i>date_from</i></b> - date (yyyy-mm-dd) from which comparison should start<br><br>\n",
    "The function returns the length of the series being compared and the R2 score for the regression."
   ]
  },
  {
   "cell_type": "code",
   "execution_count": 66,
   "id": "6d429587-1872-4dd3-8944-d291c6d192f3",
   "metadata": {},
   "outputs": [],
   "source": [
    "import numpy as np\n",
    "from sklearn.linear_model import LinearRegression\n",
    "\n",
    "def get_lr_fit(df=compiled_df, covid_column=\"cases\", numlag=0, \n",
    "               loc_code=\"USA\", carrier=\"ALL\", date_from='2020-01-01'):\n",
    "    # Get relevant rows from dataframe based on location, carrier, and start date\n",
    "    df_lr = df[(df.loc_code==loc_code) & (df.carrier==carrier) & (df.date>=date_from)].reset_index(drop=True)\n",
    "    if numlag==0: # no lag\n",
    "        X = np.array(df_lr[covid_column]).reshape(-1,1)\n",
    "        y = df_lr['passengers']\n",
    "    else: # one-month lag will reduce the series length by one\n",
    "        X = np.array(df_lr[covid_column][1:]).reshape(-1,1)\n",
    "        y = df_lr['passengers'].shift(1).dropna()\n",
    "\n",
    "    reg = LinearRegression().fit(X, y)\n",
    "    return len(X), reg.score(X, y)"
   ]
  },
  {
   "cell_type": "markdown",
   "id": "201a6850-9f53-46e6-a0a1-866ed653b293",
   "metadata": {},
   "source": [
    "Here, we look at linear regression fit from a national level.\n",
    "This result is shown in Figure 5 in the final report."
   ]
  },
  {
   "cell_type": "code",
   "execution_count": 67,
   "id": "ec552dbe-3684-4b22-ba49-19e42816d72d",
   "metadata": {},
   "outputs": [
    {
     "data": {
      "text/html": [
       "<div>\n",
       "<style scoped>\n",
       "    .dataframe tbody tr th:only-of-type {\n",
       "        vertical-align: middle;\n",
       "    }\n",
       "\n",
       "    .dataframe tbody tr th {\n",
       "        vertical-align: top;\n",
       "    }\n",
       "\n",
       "    .dataframe thead th {\n",
       "        text-align: right;\n",
       "    }\n",
       "</style>\n",
       "<table border=\"1\" class=\"dataframe\">\n",
       "  <thead>\n",
       "    <tr style=\"text-align: right;\">\n",
       "      <th></th>\n",
       "      <th>Type</th>\n",
       "      <th>Start Date</th>\n",
       "      <th>Lag</th>\n",
       "      <th>Series Length</th>\n",
       "      <th>R2 Score</th>\n",
       "    </tr>\n",
       "  </thead>\n",
       "  <tbody>\n",
       "    <tr>\n",
       "      <th>0</th>\n",
       "      <td>cases</td>\n",
       "      <td>2020-03-01</td>\n",
       "      <td>0</td>\n",
       "      <td>33</td>\n",
       "      <td>0.001</td>\n",
       "    </tr>\n",
       "    <tr>\n",
       "      <th>1</th>\n",
       "      <td>cases</td>\n",
       "      <td>2020-03-01</td>\n",
       "      <td>1</td>\n",
       "      <td>32</td>\n",
       "      <td>0.031</td>\n",
       "    </tr>\n",
       "    <tr>\n",
       "      <th>2</th>\n",
       "      <td>cases</td>\n",
       "      <td>2022-01-01</td>\n",
       "      <td>0</td>\n",
       "      <td>11</td>\n",
       "      <td>0.535</td>\n",
       "    </tr>\n",
       "    <tr>\n",
       "      <th>3</th>\n",
       "      <td>cases</td>\n",
       "      <td>2022-01-01</td>\n",
       "      <td>1</td>\n",
       "      <td>10</td>\n",
       "      <td>0.000</td>\n",
       "    </tr>\n",
       "    <tr>\n",
       "      <th>4</th>\n",
       "      <td>deaths</td>\n",
       "      <td>2020-03-01</td>\n",
       "      <td>0</td>\n",
       "      <td>33</td>\n",
       "      <td>0.215</td>\n",
       "    </tr>\n",
       "    <tr>\n",
       "      <th>5</th>\n",
       "      <td>deaths</td>\n",
       "      <td>2020-03-01</td>\n",
       "      <td>1</td>\n",
       "      <td>32</td>\n",
       "      <td>0.141</td>\n",
       "    </tr>\n",
       "    <tr>\n",
       "      <th>6</th>\n",
       "      <td>deaths</td>\n",
       "      <td>2022-01-01</td>\n",
       "      <td>0</td>\n",
       "      <td>11</td>\n",
       "      <td>0.826</td>\n",
       "    </tr>\n",
       "    <tr>\n",
       "      <th>7</th>\n",
       "      <td>deaths</td>\n",
       "      <td>2022-01-01</td>\n",
       "      <td>1</td>\n",
       "      <td>10</td>\n",
       "      <td>0.814</td>\n",
       "    </tr>\n",
       "  </tbody>\n",
       "</table>\n",
       "</div>"
      ],
      "text/plain": [
       "     Type  Start Date  Lag  Series Length  R2 Score\n",
       "0   cases  2020-03-01    0             33     0.001\n",
       "1   cases  2020-03-01    1             32     0.031\n",
       "2   cases  2022-01-01    0             11     0.535\n",
       "3   cases  2022-01-01    1             10     0.000\n",
       "4  deaths  2020-03-01    0             33     0.215\n",
       "5  deaths  2020-03-01    1             32     0.141\n",
       "6  deaths  2022-01-01    0             11     0.826\n",
       "7  deaths  2022-01-01    1             10     0.814"
      ]
     },
     "execution_count": 67,
     "metadata": {},
     "output_type": "execute_result"
    }
   ],
   "source": [
    "fit_list=[]\n",
    "for cc in [\"cases\", \"deaths\"]:\n",
    "    for sd in ['2020-03-01','2022-01-01']:\n",
    "        for lag in [0,1]:    \n",
    "            ser_len, fit = get_lr_fit(covid_column=cc, numlag=lag, date_from=sd)\n",
    "            fit_list.append([cc, sd, lag, ser_len, round(fit,3)])\n",
    "\n",
    "df_fit = pd.DataFrame(fit_list, columns=['Type', 'Start Date', 'Lag', 'Series Length', 'R2 Score'])\n",
    "df_fit"
   ]
  },
  {
   "cell_type": "markdown",
   "id": "7b92efd9-dc4e-41c0-a73a-bc431ed833aa",
   "metadata": {},
   "source": [
    "This next function uses scikit-learn to determine the fit and then score the prediction of\n",
    "a Linear Regression. This does not account for the temporal nature of the data.<br>\n",
    "<br><b><i>df</i></b> - the dataframe of data we want to compare\n",
    "<br><b><i>covid_column</i></b> - \"cases\" or \"deaths\"\n",
    "<br><b><i>numlag</i></b> - months of lag (allows 0 or 1)\n",
    "<br><b><i>loc_code</i></b> - location code (3 characters)\n",
    "<br><b><i>carrier</i></b> - air carrier code (2 or 3 characters)\n",
    "<br><b><i>date_from</i></b> - date (yyyy-mm-dd) from which comparison should start\n",
    "<br><b><i>test_rows</i></b> - number of rows to withhold for testing<br><br>\n",
    "The function returns the R2 score for the prediction."
   ]
  },
  {
   "cell_type": "code",
   "execution_count": 68,
   "id": "2d4f633c-18b8-422d-9815-c5ed6be0f8ad",
   "metadata": {},
   "outputs": [],
   "source": [
    "def get_lr_predict(df=compiled_df, covid_column=\"cases\", numlag=0, \n",
    "                   loc_code=\"USA\", carrier=\"ALL\", date_from='2022-01-01', test_rows=2):\n",
    "    # Get relevant rows from dataframe based on location, carrier, and start date\n",
    "    df_lr = df[(df.loc_code==loc_code) & (df.carrier==carrier) & (df.date>=date_from)].reset_index(drop=True)\n",
    "    if numlag==0: # no lag\n",
    "        X = np.array(df_lr[covid_column]).reshape(-1,1)\n",
    "        y = df_lr['passengers']\n",
    "    else: # one-month lag will reduce the series length by one\n",
    "        X = np.array(df_lr[covid_column][1:]).reshape(-1,1)\n",
    "        y = df_lr['passengers'].shift(1).dropna()\n",
    "        \n",
    "    # Create train and test sets\n",
    "    X_train, X_test = X[:len(X)-2], X[len(X)-2:]\n",
    "    y_train, y_test = y[:len(y)-2], y[len(y)-2:]\n",
    "    \n",
    "    reg = LinearRegression().fit(X_train, y_train)\n",
    "    return reg.score(X_test, y_test)"
   ]
  },
  {
   "cell_type": "code",
   "execution_count": 69,
   "id": "72733d5f-466d-4fe1-a941-2d7a27c36396",
   "metadata": {},
   "outputs": [
    {
     "data": {
      "text/plain": [
       "-0.7791296924051516"
      ]
     },
     "execution_count": 69,
     "metadata": {},
     "output_type": "execute_result"
    }
   ],
   "source": [
    "# Here, we look at the score for what should be the most promising prediction\n",
    "# using deaths data from 2022 only. The results are not promising.\n",
    "get_lr_predict(covid_column=\"deaths\", numlag=0)"
   ]
  },
  {
   "cell_type": "markdown",
   "id": "8d93d9a6-e97b-478c-9e51-6516e7e41353",
   "metadata": {},
   "source": [
    "# 2.0 - Vector Auto Regression (VAR)"
   ]
  },
  {
   "cell_type": "markdown",
   "id": "a740792f-fd13-4b49-adf2-78c4c7b47e89",
   "metadata": {},
   "source": [
    "Procedures for fitting and running predictions with a VAR model were adapted from a tutorial provided on the Machine Learning Plus website here: https://www.machinelearningplus.com/time-series/vector-autoregression-examples-python/."
   ]
  },
  {
   "cell_type": "markdown",
   "id": "7c64fa06-96db-4481-8603-44071d0743bb",
   "metadata": {},
   "source": [
    "## 2.1 - National-Level Prediction"
   ]
  },
  {
   "cell_type": "markdown",
   "id": "a94071e3-61fd-4c85-a3ca-7d6881d8aca2",
   "metadata": {},
   "source": [
    "We'll start with national data, using the same dataframe from Section 0.3 above. This time, we will split the data into a training and a test set (withholding the last six months of data for testing)."
   ]
  },
  {
   "cell_type": "code",
   "execution_count": 114,
   "id": "41e9fa98-8c07-4d18-b773-e48a8a6ee712",
   "metadata": {},
   "outputs": [],
   "source": [
    "nobs = 6\n",
    "df_train, df_test = df_plot[0:-nobs], df_plot[-nobs:]"
   ]
  },
  {
   "cell_type": "markdown",
   "id": "591afe3f-5a7b-4f64-bfb9-c7a1cef2528e",
   "metadata": {},
   "source": [
    "We run a test to determine the appropriate order (how many lags) for the VAR model."
   ]
  },
  {
   "cell_type": "code",
   "execution_count": 70,
   "id": "e6e31985-6fa9-44b3-91c2-786d6dcb5247",
   "metadata": {},
   "outputs": [
    {
     "data": {
      "text/html": [
       "<table class=\"simpletable\">\n",
       "<caption>VAR Order Selection (* highlights the minimums)</caption>\n",
       "<tr>\n",
       "  <td></td>      <th>AIC</th>         <th>BIC</th>         <th>FPE</th>        <th>HQIC</th>    \n",
       "</tr>\n",
       "<tr>\n",
       "  <th>0</th> <td>     83.38</td>  <td>     83.53</td>  <td> 1.634e+36</td>  <td>     83.42</td> \n",
       "</tr>\n",
       "<tr>\n",
       "  <th>1</th> <td>     80.37</td>  <td>     80.96</td>  <td> 8.090e+34</td>  <td>     80.53</td> \n",
       "</tr>\n",
       "<tr>\n",
       "  <th>2</th> <td>     79.88*</td> <td>     80.91*</td> <td> 5.166e+34*</td> <td>     80.15*</td>\n",
       "</tr>\n",
       "<tr>\n",
       "  <th>3</th> <td>     79.95</td>  <td>     81.42</td>  <td> 6.195e+34</td>  <td>     80.34</td> \n",
       "</tr>\n",
       "</table>"
      ],
      "text/plain": [
       "<class 'statsmodels.iolib.table.SimpleTable'>"
      ]
     },
     "execution_count": 70,
     "metadata": {},
     "output_type": "execute_result"
    }
   ],
   "source": [
    "model = VAR(df_train)\n",
    "x = model.select_order(maxlags=3)\n",
    "x.summary()"
   ]
  },
  {
   "cell_type": "markdown",
   "id": "74881ada-895e-4e4e-8f3b-79ad94c4286a",
   "metadata": {},
   "source": [
    "Based on the above, we will fit the model with two lags and look at the results."
   ]
  },
  {
   "cell_type": "code",
   "execution_count": 71,
   "id": "ab166d81-7869-4bd4-a9d2-5612ad556df1",
   "metadata": {},
   "outputs": [
    {
     "data": {
      "text/plain": [
       "  Summary of Regression Results   \n",
       "==================================\n",
       "Model:                         VAR\n",
       "Method:                        OLS\n",
       "Date:           Sat, 18, Feb, 2023\n",
       "Time:                     16:36:22\n",
       "--------------------------------------------------------------------\n",
       "No. of Equations:         3.00000    BIC:                    80.9012\n",
       "Nobs:                     25.0000    HQIC:                   80.1613\n",
       "Log likelihood:          -1083.89    FPE:                5.13233e+34\n",
       "AIC:                      79.8774    Det(Omega_mle):     2.44728e+34\n",
       "--------------------------------------------------------------------\n",
       "Results for equation passengers\n",
       "================================================================================\n",
       "                   coefficient       std. error           t-stat            prob\n",
       "--------------------------------------------------------------------------------\n",
       "const           8935157.606200   3927278.592493            2.275           0.023\n",
       "L1.passengers         0.585055         0.167583            3.491           0.000\n",
       "L1.cases             -0.325223         0.343617           -0.946           0.344\n",
       "L1.deaths          -224.011541        92.218953           -2.429           0.015\n",
       "L2.passengers         0.266191         0.167487            1.589           0.112\n",
       "L2.cases              1.185044         0.371423            3.191           0.001\n",
       "L2.deaths           154.655805        73.960147            2.091           0.037\n",
       "================================================================================\n",
       "\n",
       "Results for equation cases\n",
       "================================================================================\n",
       "                   coefficient       std. error           t-stat            prob\n",
       "--------------------------------------------------------------------------------\n",
       "const           -395011.216320   2949516.954707           -0.134           0.893\n",
       "L1.passengers         0.106020         0.125860            0.842           0.400\n",
       "L1.cases              0.275518         0.258068            1.068           0.286\n",
       "L1.deaths            58.142597        69.259504            0.839           0.401\n",
       "L2.passengers        -0.043381         0.125789           -0.345           0.730\n",
       "L2.cases             -0.297416         0.278951           -1.066           0.286\n",
       "L2.deaths           -30.557855        55.546532           -0.550           0.582\n",
       "================================================================================\n",
       "\n",
       "Results for equation deaths\n",
       "================================================================================\n",
       "                   coefficient       std. error           t-stat            prob\n",
       "--------------------------------------------------------------------------------\n",
       "const             14121.173282     10527.659845            1.341           0.180\n",
       "L1.passengers         0.000680         0.000449            1.513           0.130\n",
       "L1.cases              0.002188         0.000921            2.376           0.018\n",
       "L1.deaths             1.028240         0.247207            4.159           0.000\n",
       "L2.passengers        -0.000678         0.000449           -1.509           0.131\n",
       "L2.cases             -0.001303         0.000996           -1.309           0.190\n",
       "L2.deaths            -0.559677         0.198261           -2.823           0.005\n",
       "================================================================================\n",
       "\n",
       "Correlation matrix of residuals\n",
       "              passengers     cases    deaths\n",
       "passengers      1.000000 -0.680879 -0.435795\n",
       "cases          -0.680879  1.000000  0.570219\n",
       "deaths         -0.435795  0.570219  1.000000\n",
       "\n"
      ]
     },
     "execution_count": 71,
     "metadata": {},
     "output_type": "execute_result"
    }
   ],
   "source": [
    "model_fitted = model.fit(2)\n",
    "model_fitted.summary()"
   ]
  },
  {
   "cell_type": "markdown",
   "id": "6f99a9e2-c5f6-4d2c-9765-e2dbbce87add",
   "metadata": {},
   "source": [
    "Since the model uses two lags, we need to grab the last two rows of the training data in order to prime the prediction for the testing timeframe. Then we perform the forecast."
   ]
  },
  {
   "cell_type": "code",
   "execution_count": 72,
   "id": "d5f1a17b-0cfd-4a77-ae7b-ec7d7dcff887",
   "metadata": {},
   "outputs": [
    {
     "data": {
      "text/html": [
       "<div>\n",
       "<style scoped>\n",
       "    .dataframe tbody tr th:only-of-type {\n",
       "        vertical-align: middle;\n",
       "    }\n",
       "\n",
       "    .dataframe tbody tr th {\n",
       "        vertical-align: top;\n",
       "    }\n",
       "\n",
       "    .dataframe thead th {\n",
       "        text-align: right;\n",
       "    }\n",
       "</style>\n",
       "<table border=\"1\" class=\"dataframe\">\n",
       "  <thead>\n",
       "    <tr style=\"text-align: right;\">\n",
       "      <th></th>\n",
       "      <th>passengers</th>\n",
       "      <th>cases</th>\n",
       "      <th>deaths</th>\n",
       "    </tr>\n",
       "    <tr>\n",
       "      <th>date</th>\n",
       "      <th></th>\n",
       "      <th></th>\n",
       "      <th></th>\n",
       "    </tr>\n",
       "  </thead>\n",
       "  <tbody>\n",
       "    <tr>\n",
       "      <th>2022-06-01</th>\n",
       "      <td>6.577042e+07</td>\n",
       "      <td>4.485347e+06</td>\n",
       "      <td>22863.886094</td>\n",
       "    </tr>\n",
       "    <tr>\n",
       "      <th>2022-07-01</th>\n",
       "      <td>6.337973e+07</td>\n",
       "      <td>5.126494e+06</td>\n",
       "      <td>38277.978283</td>\n",
       "    </tr>\n",
       "    <tr>\n",
       "      <th>2022-08-01</th>\n",
       "      <td>6.213264e+07</td>\n",
       "      <td>5.076700e+06</td>\n",
       "      <td>44573.224364</td>\n",
       "    </tr>\n",
       "    <tr>\n",
       "      <th>2022-09-01</th>\n",
       "      <td>6.251630e+07</td>\n",
       "      <td>4.738786e+06</td>\n",
       "      <td>42246.887190</td>\n",
       "    </tr>\n",
       "    <tr>\n",
       "      <th>2022-10-01</th>\n",
       "      <td>6.395441e+07</td>\n",
       "      <td>4.427642e+06</td>\n",
       "      <td>36762.889230</td>\n",
       "    </tr>\n",
       "    <tr>\n",
       "      <th>2022-11-01</th>\n",
       "      <td>6.546735e+07</td>\n",
       "      <td>4.330476e+06</td>\n",
       "      <td>32903.258876</td>\n",
       "    </tr>\n",
       "  </tbody>\n",
       "</table>\n",
       "</div>"
      ],
      "text/plain": [
       "              passengers         cases        deaths\n",
       "date                                                \n",
       "2022-06-01  6.577042e+07  4.485347e+06  22863.886094\n",
       "2022-07-01  6.337973e+07  5.126494e+06  38277.978283\n",
       "2022-08-01  6.213264e+07  5.076700e+06  44573.224364\n",
       "2022-09-01  6.251630e+07  4.738786e+06  42246.887190\n",
       "2022-10-01  6.395441e+07  4.427642e+06  36762.889230\n",
       "2022-11-01  6.546735e+07  4.330476e+06  32903.258876"
      ]
     },
     "execution_count": 72,
     "metadata": {},
     "output_type": "execute_result"
    }
   ],
   "source": [
    "forecast_input = df_train.values[-2:]\n",
    "fc = model_fitted.forecast(y=forecast_input, steps=nobs)\n",
    "df_forecast = pd.DataFrame(fc, index=df_plot.index[-nobs:], columns=df_plot.columns)\n",
    "df_forecast"
   ]
  },
  {
   "cell_type": "markdown",
   "id": "997a5ca6-9739-4a9f-b8f8-89652cac364a",
   "metadata": {},
   "source": [
    "Let's plot the results against our original data."
   ]
  },
  {
   "cell_type": "code",
   "execution_count": 74,
   "id": "e107082d-3fe3-40c0-8990-03b1394eb38f",
   "metadata": {},
   "outputs": [
    {
     "data": {
      "image/png": "[encoded data removed]",
      "text/plain": [
       "<Figure size 640x480 with 3 Axes>"
      ]
     },
     "metadata": {},
     "output_type": "display_data"
    }
   ],
   "source": [
    "fig, axs = plt.subplots(3,1, sharex=True)\n",
    "df_plot['deaths'].plot(ax=axs[0], title=\"Deaths Attributed to COVID-19\")\n",
    "df_forecast['deaths'].plot(ax=axs[0])\n",
    "df_plot['cases'].plot(ax=axs[1], title=\"Reported Cases of COVID-19\")\n",
    "df_forecast['cases'].plot(ax=axs[1])\n",
    "df_plot['passengers'].plot(ax=axs[2], title=\"US Domestic Air Passengers\")\n",
    "df_forecast['passengers'].plot(ax=axs[2])\n",
    "\n",
    "plt.tight_layout()\n",
    "plt.show()"
   ]
  },
  {
   "cell_type": "markdown",
   "id": "90949a36-42be-496c-bf74-5eb14fe31790",
   "metadata": {},
   "source": [
    "The function takes a dataframe with forecast results and compares it to a dataframe of actuals (test data). It calculates a series of metrics, including:<br>\n",
    "&nbsp;&nbsp;&nbsp;&nbsp;Mean Absolute Percentage Error<br>\n",
    "&nbsp;&nbsp;&nbsp;&nbsp;Mean Error<br>\n",
    "&nbsp;&nbsp;&nbsp;&nbsp;Mean Absolute Error<br>\n",
    "&nbsp;&nbsp;&nbsp;&nbsp;Mean Percentage Error<br>\n",
    "&nbsp;&nbsp;&nbsp;&nbsp;Root Mean Squared Error<br>\n",
    "<br><b><i> forecast </i></b> - the dataframe containing the forecast values from a modeling activity\n",
    "<br><b><i> actual </i></b> - the dataframe containing the test data with actual values"
   ]
  },
  {
   "cell_type": "code",
   "execution_count": 86,
   "id": "a498f48b-6b18-4b37-9b6b-7820cea9e2c0",
   "metadata": {},
   "outputs": [
    {
     "data": {
      "text/html": [
       "<div>\n",
       "<style scoped>\n",
       "    .dataframe tbody tr th:only-of-type {\n",
       "        vertical-align: middle;\n",
       "    }\n",
       "\n",
       "    .dataframe tbody tr th {\n",
       "        vertical-align: top;\n",
       "    }\n",
       "\n",
       "    .dataframe thead th {\n",
       "        text-align: right;\n",
       "    }\n",
       "</style>\n",
       "<table border=\"1\" class=\"dataframe\">\n",
       "  <thead>\n",
       "    <tr style=\"text-align: right;\">\n",
       "      <th></th>\n",
       "      <th>mape</th>\n",
       "      <th>me</th>\n",
       "      <th>mae</th>\n",
       "      <th>mpe</th>\n",
       "      <th>rmse</th>\n",
       "    </tr>\n",
       "    <tr>\n",
       "      <th>variable</th>\n",
       "      <th></th>\n",
       "      <th></th>\n",
       "      <th></th>\n",
       "      <th></th>\n",
       "      <th></th>\n",
       "    </tr>\n",
       "  </thead>\n",
       "  <tbody>\n",
       "    <tr>\n",
       "      <th>passengers</th>\n",
       "      <td>0.05</td>\n",
       "      <td>-2694845.93</td>\n",
       "      <td>3242777.16</td>\n",
       "      <td>-0.04</td>\n",
       "      <td>3770369.85</td>\n",
       "    </tr>\n",
       "    <tr>\n",
       "      <th>cases</th>\n",
       "      <td>1.44</td>\n",
       "      <td>2365055.40</td>\n",
       "      <td>2365055.40</td>\n",
       "      <td>1.44</td>\n",
       "      <td>2495145.98</td>\n",
       "    </tr>\n",
       "    <tr>\n",
       "      <th>deaths</th>\n",
       "      <td>2.40</td>\n",
       "      <td>25379.85</td>\n",
       "      <td>25379.85</td>\n",
       "      <td>2.40</td>\n",
       "      <td>26112.89</td>\n",
       "    </tr>\n",
       "  </tbody>\n",
       "</table>\n",
       "</div>"
      ],
      "text/plain": [
       "            mape          me        mae   mpe       rmse\n",
       "variable                                                \n",
       "passengers  0.05 -2694845.93 3242777.16 -0.04 3770369.85\n",
       "cases       1.44  2365055.40 2365055.40  1.44 2495145.98\n",
       "deaths      2.40    25379.85   25379.85  2.40   26112.89"
      ]
     },
     "execution_count": 86,
     "metadata": {},
     "output_type": "execute_result"
    }
   ],
   "source": [
    "def forecast_accuracy(forecast, actual):\n",
    "    mape = np.mean(np.abs(forecast - actual)/np.abs(actual))  # MAPE\n",
    "    me = np.mean(forecast - actual)             # ME\n",
    "    mae = np.mean(np.abs(forecast - actual))    # MAE\n",
    "    mpe = np.mean((forecast - actual)/actual)   # MPE\n",
    "    rmse = np.mean((forecast - actual)**2)**.5  # RMSE\n",
    "    return({'mape':mape, 'me':me, 'mae': mae, \n",
    "            'mpe': mpe, 'rmse':rmse})\n",
    "\n",
    "metrics_list=[]\n",
    "\n",
    "for col in df_plot.columns:\n",
    "    accuracy_prod = forecast_accuracy(df_forecast[col].values, df_test[col])\n",
    "    accuracy_prod['variable']=col\n",
    "    metrics_list.append(accuracy_prod)\n",
    "    \n",
    "pd.set_option('display.float_format', lambda x: '%.2f' % x)\n",
    "\n",
    "df_metrics = pd.DataFrame(metrics_list)\n",
    "df_metrics.index = df_metrics.variable\n",
    "df_metrics.drop('variable', axis=1, inplace=True)\n",
    "df_metrics"
   ]
  },
  {
   "cell_type": "markdown",
   "id": "de08b588-9342-4915-b0e7-54f681f09d0b",
   "metadata": {},
   "source": [
    "## 2.2 - Market and Carrier-Level Prediction"
   ]
  },
  {
   "cell_type": "markdown",
   "id": "9073d665-ab24-429a-8124-ffc7026e106e",
   "metadata": {},
   "source": [
    "Finally, let's see if VAR predictions work as well at the market level as they seem to at the national level. We define a function to make a prediction for a given market and/or carrier, returning a dataframe with accuracy metrics. The function also calls another function to plot the predictions against the actual data."
   ]
  },
  {
   "cell_type": "code",
   "execution_count": 113,
   "id": "b2b309fa-cd7f-4e7e-8890-9c71f8ab6dc8",
   "metadata": {},
   "outputs": [
    {
     "data": {
      "image/png": "[encoded data removed]",
      "text/plain": [
       "<Figure size 640x480 with 3 Axes>"
      ]
     },
     "metadata": {},
     "output_type": "display_data"
    },
    {
     "data": {
      "text/html": [
       "<div>\n",
       "<style scoped>\n",
       "    .dataframe tbody tr th:only-of-type {\n",
       "        vertical-align: middle;\n",
       "    }\n",
       "\n",
       "    .dataframe tbody tr th {\n",
       "        vertical-align: top;\n",
       "    }\n",
       "\n",
       "    .dataframe thead th {\n",
       "        text-align: right;\n",
       "    }\n",
       "</style>\n",
       "<table border=\"1\" class=\"dataframe\">\n",
       "  <thead>\n",
       "    <tr style=\"text-align: right;\">\n",
       "      <th></th>\n",
       "      <th>mape</th>\n",
       "      <th>me</th>\n",
       "      <th>mae</th>\n",
       "      <th>mpe</th>\n",
       "      <th>rmse</th>\n",
       "    </tr>\n",
       "    <tr>\n",
       "      <th>variable</th>\n",
       "      <th></th>\n",
       "      <th></th>\n",
       "      <th></th>\n",
       "      <th></th>\n",
       "      <th></th>\n",
       "    </tr>\n",
       "  </thead>\n",
       "  <tbody>\n",
       "    <tr>\n",
       "      <th>passengers</th>\n",
       "      <td>0.03</td>\n",
       "      <td>-9493.85</td>\n",
       "      <td>187752.88</td>\n",
       "      <td>-0.00</td>\n",
       "      <td>219390.25</td>\n",
       "    </tr>\n",
       "    <tr>\n",
       "      <th>cases</th>\n",
       "      <td>1.61</td>\n",
       "      <td>93227.86</td>\n",
       "      <td>93227.86</td>\n",
       "      <td>1.61</td>\n",
       "      <td>109199.98</td>\n",
       "    </tr>\n",
       "    <tr>\n",
       "      <th>deaths</th>\n",
       "      <td>0.90</td>\n",
       "      <td>334.98</td>\n",
       "      <td>334.98</td>\n",
       "      <td>0.90</td>\n",
       "      <td>344.89</td>\n",
       "    </tr>\n",
       "  </tbody>\n",
       "</table>\n",
       "</div>"
      ],
      "text/plain": [
       "            mape       me       mae   mpe      rmse\n",
       "variable                                           \n",
       "passengers  0.03 -9493.85 187752.88 -0.00 219390.25\n",
       "cases       1.61 93227.86  93227.86  1.61 109199.98\n",
       "deaths      0.90   334.98    334.98  0.90    344.89"
      ]
     },
     "execution_count": 113,
     "metadata": {},
     "output_type": "execute_result"
    }
   ],
   "source": [
    "def plot_results(df_plot, df_forecast, loc_code=\"USA\", carrier=\"ALL\"):\n",
    "    fig, axs = plt.subplots(3,1, sharex=True)\n",
    "    df_plot['deaths'].plot(ax=axs[0], title=loc_code + \" Deaths Attributed to COVID-19\")\n",
    "    df_forecast['deaths'].plot(ax=axs[0])\n",
    "    df_plot['cases'].plot(ax=axs[1], title=loc_code + \" Reported Cases of COVID-19\")\n",
    "    df_forecast['cases'].plot(ax=axs[1])\n",
    "    df_plot['passengers'].plot(ax=axs[2], title=loc_code + \" Domestic Air Passengers - \" + carrier)\n",
    "    df_forecast['passengers'].plot(ax=axs[2])\n",
    "    plt.tight_layout()\n",
    "    plt.show()\n",
    "\n",
    "def predict_market(df=compiled_df, loc_code=\"USA\", carrier=\"ALL\", nobs=6):\n",
    "    df_market = df[(df.loc_code==loc_code) & (df.carrier==carrier)]\n",
    "    df_market.index = df_market.date\n",
    "    df_market = df_market[['passengers', 'cases', 'deaths']]\n",
    "    df_train, df_test = df_market[0:-nobs], df_market[-nobs:]\n",
    "    \n",
    "    model = VAR(df_train)\n",
    "    model_fitted = model.fit(2)\n",
    "    forecast_input = df_train.values[-2:]\n",
    "    fc = model_fitted.forecast(y=forecast_input, steps=nobs)\n",
    "    df_forecast = pd.DataFrame(fc, index=df_market.index[-nobs:], columns=df_market.columns)\n",
    "    \n",
    "    plot_results(df_market, df_forecast, loc_code, carrier)\n",
    "    \n",
    "    metrics_list=[]\n",
    "\n",
    "    for col in df_market.columns:\n",
    "        accuracy_prod = forecast_accuracy(df_forecast[col].values, df_test[col])\n",
    "        accuracy_prod['variable']=col\n",
    "        metrics_list.append(accuracy_prod)\n",
    "    df_metrics = pd.DataFrame(metrics_list)\n",
    "    df_metrics.index = df_metrics.variable\n",
    "    df_metrics.drop('variable', axis=1, inplace=True)\n",
    "    return(df_metrics)\n",
    "\n",
    "metrics = predict_market(loc_code=\"LAX\", carrier=\"ALL\")\n",
    "\n",
    "metrics.head()"
   ]
  },
  {
   "cell_type": "code",
   "execution_count": null,
   "id": "6650aec0-dab7-4a95-94e9-a7298981b257",
   "metadata": {},
   "outputs": [],
   "source": []
  }
 ],
 "metadata": {
  "kernelspec": {
   "display_name": "Python 3 (ipykernel)",
   "language": "python",
   "name": "python3"
  },
  "language_info": {
   "codemirror_mode": {
    "name": "ipython",
    "version": 3
   },
   "file_extension": ".py",
   "mimetype": "text/x-python",
   "name": "python",
   "nbconvert_exporter": "python",
   "pygments_lexer": "ipython3",
   "version": "3.9.16"
  }
 },
 "nbformat": 4,
 "nbformat_minor": 5
}
