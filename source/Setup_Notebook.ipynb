{
 "cells": [
  {
   "cell_type": "markdown",
   "id": "9885e08c-fcc0-4ab2-8d64-6f6c95b90d46",
   "metadata": {},
   "source": [
    "## Adam Packer and Aaron Newman (08-apacker-newmanar)\n",
    "## SIADS 593 Final Report\n",
    "## Winter 2023\n",
    "## Setup Notebook"
   ]
  },
  {
   "cell_type": "markdown",
   "id": "2dfb4e32",
   "metadata": {},
   "source": [
    "# 0.1 - Import necessary modules"
   ]
  },
  {
   "cell_type": "code",
   "execution_count": 113,
   "id": "593297fc",
   "metadata": {},
   "outputs": [],
   "source": [
    "import pandas as pd\n",
    "import numpy as np\n",
    "from ydata_profiling import ProfileReport\n",
    "import warnings\n",
    "warnings.filterwarnings('ignore')"
   ]
  },
  {
   "cell_type": "markdown",
   "id": "30ea6701",
   "metadata": {},
   "source": [
    "# 1.0 - Travel Data"
   ]
  },
  {
   "cell_type": "markdown",
   "id": "1b6da4af",
   "metadata": {},
   "source": [
    "### 1.1 - Obtaining and reading in the raw data"
   ]
  },
  {
   "cell_type": "markdown",
   "id": "215942d6",
   "metadata": {},
   "source": [
    "We obtained our air travel data from the Bureau of Transportation Statistics at the following link:<br>\n",
    "https://transtats.bts.gov/Fields.asp?gnoyr_VQ=FIL\n",
    "\n",
    "The webpage there gives an explanation of the fields and links to download the data in .csv format."
   ]
  },
  {
   "cell_type": "code",
   "execution_count": 114,
   "id": "5d7370ee",
   "metadata": {},
   "outputs": [],
   "source": [
    "# read in all the travel data\n",
    "# assumes that user has extracted the relevant files from downloaded zips)\n",
    "df_bts_2020 = pd.read_csv('2020_T_T100D_MARKET_US_CARRIER_ONLY.csv')\n",
    "df_bts_2021 = pd.read_csv('2021_T_T100D_MARKET_US_CARRIER_ONLY.csv')\n",
    "df_bts_2022 = pd.read_csv('2022_T_T100D_MARKET_US_CARRIER_ONLY.csv')\n",
    "\n",
    "# NOTE: 2022 data is only through November.  December 2022 data is not available at the time of this writing."
   ]
  },
  {
   "cell_type": "code",
   "execution_count": 115,
   "id": "13a8eafb",
   "metadata": {},
   "outputs": [],
   "source": [
    "# collect into a single dataframe\n",
    "df_bts_region = pd.concat([df_bts_2022, df_bts_2021, df_bts_2020])"
   ]
  },
  {
   "cell_type": "code",
   "execution_count": 116,
   "id": "407ca214",
   "metadata": {},
   "outputs": [
    {
     "data": {
      "text/html": [
       "<div>\n",
       "<style scoped>\n",
       "    .dataframe tbody tr th:only-of-type {\n",
       "        vertical-align: middle;\n",
       "    }\n",
       "\n",
       "    .dataframe tbody tr th {\n",
       "        vertical-align: top;\n",
       "    }\n",
       "\n",
       "    .dataframe thead th {\n",
       "        text-align: right;\n",
       "    }\n",
       "</style>\n",
       "<table border=\"1\" class=\"dataframe\">\n",
       "  <thead>\n",
       "    <tr style=\"text-align: right;\">\n",
       "      <th></th>\n",
       "      <th>PASSENGERS</th>\n",
       "      <th>FREIGHT</th>\n",
       "      <th>MAIL</th>\n",
       "      <th>DISTANCE</th>\n",
       "      <th>UNIQUE_CARRIER</th>\n",
       "      <th>AIRLINE_ID</th>\n",
       "      <th>UNIQUE_CARRIER_NAME</th>\n",
       "      <th>UNIQUE_CARRIER_ENTITY</th>\n",
       "      <th>REGION</th>\n",
       "      <th>CARRIER</th>\n",
       "      <th>...</th>\n",
       "      <th>DEST_CITY_NAME</th>\n",
       "      <th>DEST_STATE_ABR</th>\n",
       "      <th>DEST_STATE_FIPS</th>\n",
       "      <th>DEST_STATE_NM</th>\n",
       "      <th>DEST_WAC</th>\n",
       "      <th>YEAR</th>\n",
       "      <th>QUARTER</th>\n",
       "      <th>MONTH</th>\n",
       "      <th>DISTANCE_GROUP</th>\n",
       "      <th>CLASS</th>\n",
       "    </tr>\n",
       "  </thead>\n",
       "  <tbody>\n",
       "    <tr>\n",
       "      <th>0</th>\n",
       "      <td>0.0</td>\n",
       "      <td>0.0</td>\n",
       "      <td>0.0</td>\n",
       "      <td>0.0</td>\n",
       "      <td>09Q</td>\n",
       "      <td>21161</td>\n",
       "      <td>Swift Air, LLC d/b/a Eastern Air Lines d/b/a E...</td>\n",
       "      <td>01130</td>\n",
       "      <td>D</td>\n",
       "      <td>09Q</td>\n",
       "      <td>...</td>\n",
       "      <td>Alexandria, LA</td>\n",
       "      <td>LA</td>\n",
       "      <td>22</td>\n",
       "      <td>Louisiana</td>\n",
       "      <td>72</td>\n",
       "      <td>2022</td>\n",
       "      <td>1</td>\n",
       "      <td>3</td>\n",
       "      <td>1</td>\n",
       "      <td>L</td>\n",
       "    </tr>\n",
       "    <tr>\n",
       "      <th>1</th>\n",
       "      <td>0.0</td>\n",
       "      <td>0.0</td>\n",
       "      <td>0.0</td>\n",
       "      <td>0.0</td>\n",
       "      <td>09Q</td>\n",
       "      <td>21161</td>\n",
       "      <td>Swift Air, LLC d/b/a Eastern Air Lines d/b/a E...</td>\n",
       "      <td>01130</td>\n",
       "      <td>D</td>\n",
       "      <td>09Q</td>\n",
       "      <td>...</td>\n",
       "      <td>Phoenix, AZ</td>\n",
       "      <td>AZ</td>\n",
       "      <td>4</td>\n",
       "      <td>Arizona</td>\n",
       "      <td>81</td>\n",
       "      <td>2022</td>\n",
       "      <td>1</td>\n",
       "      <td>1</td>\n",
       "      <td>1</td>\n",
       "      <td>L</td>\n",
       "    </tr>\n",
       "    <tr>\n",
       "      <th>2</th>\n",
       "      <td>0.0</td>\n",
       "      <td>0.0</td>\n",
       "      <td>0.0</td>\n",
       "      <td>0.0</td>\n",
       "      <td>09Q</td>\n",
       "      <td>21161</td>\n",
       "      <td>Swift Air, LLC d/b/a Eastern Air Lines d/b/a E...</td>\n",
       "      <td>01130</td>\n",
       "      <td>D</td>\n",
       "      <td>09Q</td>\n",
       "      <td>...</td>\n",
       "      <td>Bullhead City, AZ</td>\n",
       "      <td>AZ</td>\n",
       "      <td>4</td>\n",
       "      <td>Arizona</td>\n",
       "      <td>81</td>\n",
       "      <td>2022</td>\n",
       "      <td>1</td>\n",
       "      <td>1</td>\n",
       "      <td>1</td>\n",
       "      <td>L</td>\n",
       "    </tr>\n",
       "    <tr>\n",
       "      <th>3</th>\n",
       "      <td>0.0</td>\n",
       "      <td>0.0</td>\n",
       "      <td>0.0</td>\n",
       "      <td>0.0</td>\n",
       "      <td>09Q</td>\n",
       "      <td>21161</td>\n",
       "      <td>Swift Air, LLC d/b/a Eastern Air Lines d/b/a E...</td>\n",
       "      <td>01130</td>\n",
       "      <td>D</td>\n",
       "      <td>09Q</td>\n",
       "      <td>...</td>\n",
       "      <td>Bullhead City, AZ</td>\n",
       "      <td>AZ</td>\n",
       "      <td>4</td>\n",
       "      <td>Arizona</td>\n",
       "      <td>81</td>\n",
       "      <td>2022</td>\n",
       "      <td>1</td>\n",
       "      <td>2</td>\n",
       "      <td>1</td>\n",
       "      <td>L</td>\n",
       "    </tr>\n",
       "    <tr>\n",
       "      <th>4</th>\n",
       "      <td>0.0</td>\n",
       "      <td>0.0</td>\n",
       "      <td>0.0</td>\n",
       "      <td>0.0</td>\n",
       "      <td>09Q</td>\n",
       "      <td>21161</td>\n",
       "      <td>Swift Air, LLC d/b/a Eastern Air Lines d/b/a E...</td>\n",
       "      <td>01130</td>\n",
       "      <td>D</td>\n",
       "      <td>09Q</td>\n",
       "      <td>...</td>\n",
       "      <td>Baton Rouge, LA</td>\n",
       "      <td>LA</td>\n",
       "      <td>22</td>\n",
       "      <td>Louisiana</td>\n",
       "      <td>72</td>\n",
       "      <td>2022</td>\n",
       "      <td>1</td>\n",
       "      <td>3</td>\n",
       "      <td>1</td>\n",
       "      <td>L</td>\n",
       "    </tr>\n",
       "  </tbody>\n",
       "</table>\n",
       "<p>5 rows × 36 columns</p>\n",
       "</div>"
      ],
      "text/plain": [
       "   PASSENGERS  FREIGHT  MAIL  DISTANCE UNIQUE_CARRIER  AIRLINE_ID  \\\n",
       "0         0.0      0.0   0.0       0.0            09Q       21161   \n",
       "1         0.0      0.0   0.0       0.0            09Q       21161   \n",
       "2         0.0      0.0   0.0       0.0            09Q       21161   \n",
       "3         0.0      0.0   0.0       0.0            09Q       21161   \n",
       "4         0.0      0.0   0.0       0.0            09Q       21161   \n",
       "\n",
       "                                 UNIQUE_CARRIER_NAME UNIQUE_CARRIER_ENTITY  \\\n",
       "0  Swift Air, LLC d/b/a Eastern Air Lines d/b/a E...                 01130   \n",
       "1  Swift Air, LLC d/b/a Eastern Air Lines d/b/a E...                 01130   \n",
       "2  Swift Air, LLC d/b/a Eastern Air Lines d/b/a E...                 01130   \n",
       "3  Swift Air, LLC d/b/a Eastern Air Lines d/b/a E...                 01130   \n",
       "4  Swift Air, LLC d/b/a Eastern Air Lines d/b/a E...                 01130   \n",
       "\n",
       "  REGION CARRIER  ...     DEST_CITY_NAME  DEST_STATE_ABR  DEST_STATE_FIPS  \\\n",
       "0      D     09Q  ...     Alexandria, LA              LA               22   \n",
       "1      D     09Q  ...        Phoenix, AZ              AZ                4   \n",
       "2      D     09Q  ...  Bullhead City, AZ              AZ                4   \n",
       "3      D     09Q  ...  Bullhead City, AZ              AZ                4   \n",
       "4      D     09Q  ...    Baton Rouge, LA              LA               22   \n",
       "\n",
       "   DEST_STATE_NM  DEST_WAC  YEAR QUARTER MONTH DISTANCE_GROUP  CLASS  \n",
       "0      Louisiana        72  2022       1     3              1      L  \n",
       "1        Arizona        81  2022       1     1              1      L  \n",
       "2        Arizona        81  2022       1     1              1      L  \n",
       "3        Arizona        81  2022       1     2              1      L  \n",
       "4      Louisiana        72  2022       1     3              1      L  \n",
       "\n",
       "[5 rows x 36 columns]"
      ]
     },
     "execution_count": 116,
     "metadata": {},
     "output_type": "execute_result"
    }
   ],
   "source": [
    "df_bts_region.head()"
   ]
  },
  {
   "cell_type": "code",
   "execution_count": 117,
   "id": "a303a3e0",
   "metadata": {},
   "outputs": [
    {
     "data": {
      "text/plain": [
       "(664691, 36)"
      ]
     },
     "execution_count": 117,
     "metadata": {},
     "output_type": "execute_result"
    }
   ],
   "source": [
    "df_bts_region.shape"
   ]
  },
  {
   "cell_type": "markdown",
   "id": "9354bee8",
   "metadata": {},
   "source": [
    "### 1.2 - Extract and organize the travel data we are interested in"
   ]
  },
  {
   "cell_type": "code",
   "execution_count": 118,
   "id": "e7099d50",
   "metadata": {},
   "outputs": [],
   "source": [
    "# keep only the columns we are interested in, where there are passengers to count\n",
    "df_bts_region = df_bts_region[['YEAR', 'MONTH', 'ORIGIN_CITY_MARKET_ID', 'DEST_CITY_MARKET_ID',\n",
    "                               'UNIQUE_CARRIER', 'PASSENGERS']][df_bts_region.PASSENGERS>0]\n",
    "# rename the columns\n",
    "df_bts_region.columns = ['year', 'month', 'origin', 'dest', 'carrier', 'passengers']\n",
    "\n",
    "# organize the data\n",
    "df_bts_region = df_bts_region.groupby(['year', 'month', 'origin', 'dest', 'carrier']).sum().reset_index()\n",
    "\n",
    "# reformat the date data\n",
    "df_bts_region['date'] = pd.to_datetime(dict(year=df_bts_region.year, month=df_bts_region.month, day=1))\n",
    "df_bts_region.drop(['year', 'month'], axis=1, inplace=True)"
   ]
  },
  {
   "cell_type": "code",
   "execution_count": 119,
   "id": "10a657f4",
   "metadata": {},
   "outputs": [
    {
     "data": {
      "text/html": [
       "<div>\n",
       "<style scoped>\n",
       "    .dataframe tbody tr th:only-of-type {\n",
       "        vertical-align: middle;\n",
       "    }\n",
       "\n",
       "    .dataframe tbody tr th {\n",
       "        vertical-align: top;\n",
       "    }\n",
       "\n",
       "    .dataframe thead th {\n",
       "        text-align: right;\n",
       "    }\n",
       "</style>\n",
       "<table border=\"1\" class=\"dataframe\">\n",
       "  <thead>\n",
       "    <tr style=\"text-align: right;\">\n",
       "      <th></th>\n",
       "      <th>origin</th>\n",
       "      <th>dest</th>\n",
       "      <th>carrier</th>\n",
       "      <th>passengers</th>\n",
       "      <th>date</th>\n",
       "    </tr>\n",
       "  </thead>\n",
       "  <tbody>\n",
       "    <tr>\n",
       "      <th>0</th>\n",
       "      <td>30006</td>\n",
       "      <td>30056</td>\n",
       "      <td>2O</td>\n",
       "      <td>4.0</td>\n",
       "      <td>2020-01-01</td>\n",
       "    </tr>\n",
       "    <tr>\n",
       "      <th>1</th>\n",
       "      <td>30007</td>\n",
       "      <td>31401</td>\n",
       "      <td>I4</td>\n",
       "      <td>631.0</td>\n",
       "      <td>2020-01-01</td>\n",
       "    </tr>\n",
       "    <tr>\n",
       "      <th>2</th>\n",
       "      <td>30007</td>\n",
       "      <td>32523</td>\n",
       "      <td>J5</td>\n",
       "      <td>1.0</td>\n",
       "      <td>2020-01-01</td>\n",
       "    </tr>\n",
       "    <tr>\n",
       "      <th>3</th>\n",
       "      <td>30007</td>\n",
       "      <td>34828</td>\n",
       "      <td>J5</td>\n",
       "      <td>55.0</td>\n",
       "      <td>2020-01-01</td>\n",
       "    </tr>\n",
       "    <tr>\n",
       "      <th>4</th>\n",
       "      <td>30009</td>\n",
       "      <td>30009</td>\n",
       "      <td>2E</td>\n",
       "      <td>11.0</td>\n",
       "      <td>2020-01-01</td>\n",
       "    </tr>\n",
       "  </tbody>\n",
       "</table>\n",
       "</div>"
      ],
      "text/plain": [
       "   origin   dest carrier  passengers       date\n",
       "0   30006  30056      2O         4.0 2020-01-01\n",
       "1   30007  31401      I4       631.0 2020-01-01\n",
       "2   30007  32523      J5         1.0 2020-01-01\n",
       "3   30007  34828      J5        55.0 2020-01-01\n",
       "4   30009  30009      2E        11.0 2020-01-01"
      ]
     },
     "execution_count": 119,
     "metadata": {},
     "output_type": "execute_result"
    }
   ],
   "source": [
    "df_bts_region.head()"
   ]
  },
  {
   "cell_type": "code",
   "execution_count": 120,
   "id": "189813fd",
   "metadata": {},
   "outputs": [
    {
     "data": {
      "text/plain": [
       "(473065, 5)"
      ]
     },
     "execution_count": 120,
     "metadata": {},
     "output_type": "execute_result"
    }
   ],
   "source": [
    "df_bts_region.shape"
   ]
  },
  {
   "cell_type": "markdown",
   "id": "1540a641",
   "metadata": {},
   "source": [
    "### 1.3 - Aggregate passenger counts by location"
   ]
  },
  {
   "cell_type": "markdown",
   "id": "9eed5a64",
   "metadata": {},
   "source": [
    "Get number of passengers departing on [date], via [carrier], from [origin].<br>\n",
    "Get number of passengers arriving on [date], via [carrier], at [destination]."
   ]
  },
  {
   "cell_type": "code",
   "execution_count": 121,
   "id": "367b504a",
   "metadata": {},
   "outputs": [],
   "source": [
    "# aggregate passenger counts by date, carrier, origin\n",
    "df_pass_from = df_bts_region.reset_index().groupby(['date', 'carrier', 'origin']).sum()['passengers'].to_frame()\n",
    "df_pass_from = df_pass_from.reset_index().rename(columns={'origin': 'bts_loc_code', 'passengers': 'p_origin'})\n",
    "df_pass_from = df_pass_from.set_index(['date', 'carrier', 'bts_loc_code'])\n",
    "\n",
    "# aggregate passenger counts by date, carrier, dest\n",
    "df_pass_to = df_bts_region.reset_index().groupby(['date', 'carrier', 'dest']).sum()['passengers'].to_frame()\n",
    "df_pass_to = df_pass_to.reset_index().rename(columns={'dest': 'bts_loc_code', 'passengers': 'p_dest'})\n",
    "df_pass_to = df_pass_to.set_index(['date', 'carrier', 'bts_loc_code'])\n",
    "\n",
    "# merge these two datasets together\n",
    "df_pass_both = df_pass_from.merge(df_pass_to, how='outer', left_index=True, right_index=True)"
   ]
  },
  {
   "cell_type": "markdown",
   "id": "9426c588",
   "metadata": {},
   "source": [
    "Get number of passengers either arriving at or departing from [location], on [date], via [carrier]. "
   ]
  },
  {
   "cell_type": "code",
   "execution_count": 122,
   "id": "51c61d1e",
   "metadata": {},
   "outputs": [],
   "source": [
    "# replace missing values with 0\n",
    "df_pass_both = df_pass_both.replace(np.nan, 0)\n",
    "\n",
    "# calculate the 'both' column\n",
    "df_pass_both['passengers'] = df_pass_both['p_origin'] + df_pass_both['p_dest']\n",
    "df_pass_both = df_pass_both.reset_index()"
   ]
  },
  {
   "cell_type": "code",
   "execution_count": 123,
   "id": "91fbd218",
   "metadata": {},
   "outputs": [
    {
     "data": {
      "text/html": [
       "<div>\n",
       "<style scoped>\n",
       "    .dataframe tbody tr th:only-of-type {\n",
       "        vertical-align: middle;\n",
       "    }\n",
       "\n",
       "    .dataframe tbody tr th {\n",
       "        vertical-align: top;\n",
       "    }\n",
       "\n",
       "    .dataframe thead th {\n",
       "        text-align: right;\n",
       "    }\n",
       "</style>\n",
       "<table border=\"1\" class=\"dataframe\">\n",
       "  <thead>\n",
       "    <tr style=\"text-align: right;\">\n",
       "      <th></th>\n",
       "      <th>date</th>\n",
       "      <th>carrier</th>\n",
       "      <th>bts_loc_code</th>\n",
       "      <th>p_origin</th>\n",
       "      <th>p_dest</th>\n",
       "      <th>passengers</th>\n",
       "    </tr>\n",
       "  </thead>\n",
       "  <tbody>\n",
       "    <tr>\n",
       "      <th>0</th>\n",
       "      <td>2020-01-01</td>\n",
       "      <td>04Q</td>\n",
       "      <td>30154</td>\n",
       "      <td>5.0</td>\n",
       "      <td>8.0</td>\n",
       "      <td>13.0</td>\n",
       "    </tr>\n",
       "    <tr>\n",
       "      <th>1</th>\n",
       "      <td>2020-01-01</td>\n",
       "      <td>04Q</td>\n",
       "      <td>30194</td>\n",
       "      <td>2.0</td>\n",
       "      <td>2.0</td>\n",
       "      <td>4.0</td>\n",
       "    </tr>\n",
       "    <tr>\n",
       "      <th>2</th>\n",
       "      <td>2020-01-01</td>\n",
       "      <td>04Q</td>\n",
       "      <td>30198</td>\n",
       "      <td>4.0</td>\n",
       "      <td>0.0</td>\n",
       "      <td>4.0</td>\n",
       "    </tr>\n",
       "    <tr>\n",
       "      <th>3</th>\n",
       "      <td>2020-01-01</td>\n",
       "      <td>04Q</td>\n",
       "      <td>30257</td>\n",
       "      <td>2.0</td>\n",
       "      <td>2.0</td>\n",
       "      <td>4.0</td>\n",
       "    </tr>\n",
       "    <tr>\n",
       "      <th>4</th>\n",
       "      <td>2020-01-01</td>\n",
       "      <td>04Q</td>\n",
       "      <td>30397</td>\n",
       "      <td>6.0</td>\n",
       "      <td>6.0</td>\n",
       "      <td>12.0</td>\n",
       "    </tr>\n",
       "  </tbody>\n",
       "</table>\n",
       "</div>"
      ],
      "text/plain": [
       "        date carrier  bts_loc_code  p_origin  p_dest  passengers\n",
       "0 2020-01-01     04Q         30154       5.0     8.0        13.0\n",
       "1 2020-01-01     04Q         30194       2.0     2.0         4.0\n",
       "2 2020-01-01     04Q         30198       4.0     0.0         4.0\n",
       "3 2020-01-01     04Q         30257       2.0     2.0         4.0\n",
       "4 2020-01-01     04Q         30397       6.0     6.0        12.0"
      ]
     },
     "execution_count": 123,
     "metadata": {},
     "output_type": "execute_result"
    }
   ],
   "source": [
    "df_pass_both.head()"
   ]
  },
  {
   "cell_type": "code",
   "execution_count": 124,
   "id": "324b61e4",
   "metadata": {},
   "outputs": [
    {
     "data": {
      "text/plain": [
       "(109147, 6)"
      ]
     },
     "execution_count": 124,
     "metadata": {},
     "output_type": "execute_result"
    }
   ],
   "source": [
    "df_pass_both.shape"
   ]
  },
  {
   "cell_type": "markdown",
   "id": "33441230",
   "metadata": {},
   "source": [
    "### 1.4 - Create national summary entries (summing all locations together)"
   ]
  },
  {
   "cell_type": "code",
   "execution_count": 125,
   "id": "33d97b79",
   "metadata": {},
   "outputs": [],
   "source": [
    "# National (all locations aggregated together) summary\n",
    "df_bts_us = df_bts_region[['date', 'carrier', 'passengers']].groupby(['date', 'carrier']).sum()"
   ]
  },
  {
   "cell_type": "code",
   "execution_count": 126,
   "id": "6d186b27",
   "metadata": {},
   "outputs": [],
   "source": [
    "# location 0 will designate the sum of all locations\n",
    "df_bts_us['bts_loc_code'] = 0\n",
    "\n",
    "# for the national aggregate, the same number of passengers depart and arrive\n",
    "# (for in-country travel, however many go up, must come down)\n",
    "df_bts_us['p_origin'] = df_bts_us['passengers']\n",
    "df_bts_us['p_dest'] = df_bts_us['passengers']\n",
    "\n",
    "# match the regional df\n",
    "df_bts_us = df_bts_us[['bts_loc_code', 'p_origin', 'p_dest', 'passengers']]\n",
    "df_bts_us = df_bts_us.reset_index()\n",
    "\n",
    "# combine national data and regional data\n",
    "df_bts_final = pd.concat([df_bts_us, df_pass_both])"
   ]
  },
  {
   "cell_type": "code",
   "execution_count": 127,
   "id": "3f9d2791",
   "metadata": {},
   "outputs": [
    {
     "data": {
      "text/html": [
       "<div>\n",
       "<style scoped>\n",
       "    .dataframe tbody tr th:only-of-type {\n",
       "        vertical-align: middle;\n",
       "    }\n",
       "\n",
       "    .dataframe tbody tr th {\n",
       "        vertical-align: top;\n",
       "    }\n",
       "\n",
       "    .dataframe thead th {\n",
       "        text-align: right;\n",
       "    }\n",
       "</style>\n",
       "<table border=\"1\" class=\"dataframe\">\n",
       "  <thead>\n",
       "    <tr style=\"text-align: right;\">\n",
       "      <th></th>\n",
       "      <th>date</th>\n",
       "      <th>carrier</th>\n",
       "      <th>bts_loc_code</th>\n",
       "      <th>p_origin</th>\n",
       "      <th>p_dest</th>\n",
       "      <th>passengers</th>\n",
       "    </tr>\n",
       "  </thead>\n",
       "  <tbody>\n",
       "    <tr>\n",
       "      <th>0</th>\n",
       "      <td>2020-01-01</td>\n",
       "      <td>04Q</td>\n",
       "      <td>0</td>\n",
       "      <td>357.0</td>\n",
       "      <td>357.0</td>\n",
       "      <td>357.0</td>\n",
       "    </tr>\n",
       "    <tr>\n",
       "      <th>1</th>\n",
       "      <td>2020-01-01</td>\n",
       "      <td>09Q</td>\n",
       "      <td>0</td>\n",
       "      <td>33687.0</td>\n",
       "      <td>33687.0</td>\n",
       "      <td>33687.0</td>\n",
       "    </tr>\n",
       "    <tr>\n",
       "      <th>2</th>\n",
       "      <td>2020-01-01</td>\n",
       "      <td>1BQ</td>\n",
       "      <td>0</td>\n",
       "      <td>700.0</td>\n",
       "      <td>700.0</td>\n",
       "      <td>700.0</td>\n",
       "    </tr>\n",
       "    <tr>\n",
       "      <th>3</th>\n",
       "      <td>2020-01-01</td>\n",
       "      <td>1EQ</td>\n",
       "      <td>0</td>\n",
       "      <td>1157.0</td>\n",
       "      <td>1157.0</td>\n",
       "      <td>1157.0</td>\n",
       "    </tr>\n",
       "    <tr>\n",
       "      <th>4</th>\n",
       "      <td>2020-01-01</td>\n",
       "      <td>1QQ</td>\n",
       "      <td>0</td>\n",
       "      <td>1490.0</td>\n",
       "      <td>1490.0</td>\n",
       "      <td>1490.0</td>\n",
       "    </tr>\n",
       "  </tbody>\n",
       "</table>\n",
       "</div>"
      ],
      "text/plain": [
       "        date carrier  bts_loc_code  p_origin   p_dest  passengers\n",
       "0 2020-01-01     04Q             0     357.0    357.0       357.0\n",
       "1 2020-01-01     09Q             0   33687.0  33687.0     33687.0\n",
       "2 2020-01-01     1BQ             0     700.0    700.0       700.0\n",
       "3 2020-01-01     1EQ             0    1157.0   1157.0      1157.0\n",
       "4 2020-01-01     1QQ             0    1490.0   1490.0      1490.0"
      ]
     },
     "execution_count": 127,
     "metadata": {},
     "output_type": "execute_result"
    }
   ],
   "source": [
    "df_bts_final.head()"
   ]
  },
  {
   "cell_type": "code",
   "execution_count": 128,
   "id": "a4d3ea13",
   "metadata": {},
   "outputs": [
    {
     "data": {
      "text/plain": [
       "(111941, 6)"
      ]
     },
     "execution_count": 128,
     "metadata": {},
     "output_type": "execute_result"
    }
   ],
   "source": [
    "df_bts_final.shape"
   ]
  },
  {
   "cell_type": "markdown",
   "id": "e58bd649",
   "metadata": {},
   "source": [
    "### 1.5 - Create 'all carrier' summary entries (summing all carriers together)"
   ]
  },
  {
   "cell_type": "code",
   "execution_count": 129,
   "id": "581fc8a3",
   "metadata": {},
   "outputs": [],
   "source": [
    "# all carriers (all carriers aggregated together) summary\n",
    "df_all_carriers = \\\n",
    "    df_bts_final[['date', 'bts_loc_code', 'p_origin', 'p_dest', 'passengers']].groupby(['date', 'bts_loc_code']).sum()"
   ]
  },
  {
   "cell_type": "code",
   "execution_count": 130,
   "id": "011ea9ff",
   "metadata": {},
   "outputs": [],
   "source": [
    "# carrier 'ALL' will designate the sum of all carriers\n",
    "df_all_carriers['carrier'] = 'ALL'\n",
    "\n",
    "# match the format of our final df\n",
    "df_all_carriers = df_all_carriers[['carrier', 'p_origin', 'p_dest', 'passengers']]\n",
    "df_all_carriers = df_all_carriers.reset_index()\n",
    "\n",
    "# combine all carrier data with other data\n",
    "df_bts_final = pd.concat([df_all_carriers, df_bts_final])"
   ]
  },
  {
   "cell_type": "code",
   "execution_count": 131,
   "id": "41f989ec",
   "metadata": {},
   "outputs": [
    {
     "data": {
      "text/html": [
       "<div>\n",
       "<style scoped>\n",
       "    .dataframe tbody tr th:only-of-type {\n",
       "        vertical-align: middle;\n",
       "    }\n",
       "\n",
       "    .dataframe tbody tr th {\n",
       "        vertical-align: top;\n",
       "    }\n",
       "\n",
       "    .dataframe thead th {\n",
       "        text-align: right;\n",
       "    }\n",
       "</style>\n",
       "<table border=\"1\" class=\"dataframe\">\n",
       "  <thead>\n",
       "    <tr style=\"text-align: right;\">\n",
       "      <th></th>\n",
       "      <th>date</th>\n",
       "      <th>bts_loc_code</th>\n",
       "      <th>carrier</th>\n",
       "      <th>p_origin</th>\n",
       "      <th>p_dest</th>\n",
       "      <th>passengers</th>\n",
       "    </tr>\n",
       "  </thead>\n",
       "  <tbody>\n",
       "    <tr>\n",
       "      <th>0</th>\n",
       "      <td>2020-01-01</td>\n",
       "      <td>0</td>\n",
       "      <td>ALL</td>\n",
       "      <td>61848685.0</td>\n",
       "      <td>61848685.0</td>\n",
       "      <td>61848685.0</td>\n",
       "    </tr>\n",
       "    <tr>\n",
       "      <th>1</th>\n",
       "      <td>2020-01-01</td>\n",
       "      <td>30006</td>\n",
       "      <td>ALL</td>\n",
       "      <td>4.0</td>\n",
       "      <td>4.0</td>\n",
       "      <td>8.0</td>\n",
       "    </tr>\n",
       "    <tr>\n",
       "      <th>2</th>\n",
       "      <td>2020-01-01</td>\n",
       "      <td>30007</td>\n",
       "      <td>ALL</td>\n",
       "      <td>687.0</td>\n",
       "      <td>655.0</td>\n",
       "      <td>1342.0</td>\n",
       "    </tr>\n",
       "    <tr>\n",
       "      <th>3</th>\n",
       "      <td>2020-01-01</td>\n",
       "      <td>30009</td>\n",
       "      <td>ALL</td>\n",
       "      <td>2739.0</td>\n",
       "      <td>2503.0</td>\n",
       "      <td>5242.0</td>\n",
       "    </tr>\n",
       "    <tr>\n",
       "      <th>4</th>\n",
       "      <td>2020-01-01</td>\n",
       "      <td>30011</td>\n",
       "      <td>ALL</td>\n",
       "      <td>813.0</td>\n",
       "      <td>823.0</td>\n",
       "      <td>1636.0</td>\n",
       "    </tr>\n",
       "  </tbody>\n",
       "</table>\n",
       "</div>"
      ],
      "text/plain": [
       "        date  bts_loc_code carrier    p_origin      p_dest  passengers\n",
       "0 2020-01-01             0     ALL  61848685.0  61848685.0  61848685.0\n",
       "1 2020-01-01         30006     ALL         4.0         4.0         8.0\n",
       "2 2020-01-01         30007     ALL       687.0       655.0      1342.0\n",
       "3 2020-01-01         30009     ALL      2739.0      2503.0      5242.0\n",
       "4 2020-01-01         30011     ALL       813.0       823.0      1636.0"
      ]
     },
     "execution_count": 131,
     "metadata": {},
     "output_type": "execute_result"
    }
   ],
   "source": [
    "df_bts_final.head()"
   ]
  },
  {
   "cell_type": "code",
   "execution_count": 132,
   "id": "b0c39887",
   "metadata": {},
   "outputs": [
    {
     "data": {
      "text/plain": [
       "(138450, 6)"
      ]
     },
     "execution_count": 132,
     "metadata": {},
     "output_type": "execute_result"
    }
   ],
   "source": [
    "df_bts_final.shape"
   ]
  },
  {
   "cell_type": "markdown",
   "id": "b5a55fd6",
   "metadata": {},
   "source": [
    "### 1.6 - Write our finalized travel data to file"
   ]
  },
  {
   "cell_type": "code",
   "execution_count": 133,
   "id": "6b8b2c70",
   "metadata": {},
   "outputs": [],
   "source": [
    "df_bts_final.to_pickle('full_BTS_data.pkl', protocol=4)"
   ]
  },
  {
   "cell_type": "markdown",
   "id": "b6d06c79",
   "metadata": {},
   "source": [
    "# 2.0 - Covid data"
   ]
  },
  {
   "cell_type": "markdown",
   "id": "1c25e205",
   "metadata": {},
   "source": [
    "### 2.1 - Obtaining and reading in the raw data"
   ]
  },
  {
   "cell_type": "markdown",
   "id": "03f49304",
   "metadata": {},
   "source": [
    "We obtained our Covid data from Covid Act Now (https://covidactnow.org).  The data is available to download after registering for a free API key at https://covidactnow.org/data-api.\n",
    "\n",
    "In order to remove my personal API key from this notebook, I added code to write the result out to a pickle file, then read from that pickle file to carry on with the notebook.  However, I am leaving the original code, commented out, so someone can recreate what we've done with their own API key."
   ]
  },
  {
   "cell_type": "code",
   "execution_count": 134,
   "id": "91994e6f",
   "metadata": {},
   "outputs": [],
   "source": [
    "# URLs and API key to retrieve COVID Act Now Data\n",
    "#api_key = [your API key here]\n",
    "#us_data = 'https://api.covidactnow.org/v2/country/US.timeseries.csv?apiKey='\n",
    "#cbsa_data = 'https://api.covidactnow.org/v2/cbsas.timeseries.csv?apiKey='"
   ]
  },
  {
   "cell_type": "code",
   "execution_count": 135,
   "id": "b41249ad",
   "metadata": {},
   "outputs": [],
   "source": [
    "# Read data at the national and regional (CBSA) levels, limiting to needed columns\n",
    "#df_us_covid = pd.read_csv(us_data+api_key)[['date','fips','actuals.newCases','actuals.newDeaths']]\n",
    "#df_cbsa_covid = pd.read_csv(cbsa_data+api_key)[['date','fips','actuals.newCases','actuals.newDeaths']]"
   ]
  },
  {
   "cell_type": "code",
   "execution_count": 136,
   "id": "8b49ebb8",
   "metadata": {},
   "outputs": [],
   "source": [
    "# write to pickle\n",
    "#df_us_covid.to_pickle('df_us_covid_data.pkl', protocol=4)\n",
    "#df_cbsa_covid.to_pickle('df_cbsa_covid_data.pkl', protocol=4)"
   ]
  },
  {
   "cell_type": "code",
   "execution_count": 137,
   "id": "41959f3e",
   "metadata": {},
   "outputs": [],
   "source": [
    "# read from pickle\n",
    "df_us_covid = pd.read_pickle('df_us_covid_data.pkl')\n",
    "df_cbsa_covid = pd.read_pickle('df_cbsa_covid_data.pkl')"
   ]
  },
  {
   "cell_type": "code",
   "execution_count": 138,
   "id": "2561b773",
   "metadata": {},
   "outputs": [
    {
     "data": {
      "text/html": [
       "<div>\n",
       "<style scoped>\n",
       "    .dataframe tbody tr th:only-of-type {\n",
       "        vertical-align: middle;\n",
       "    }\n",
       "\n",
       "    .dataframe tbody tr th {\n",
       "        vertical-align: top;\n",
       "    }\n",
       "\n",
       "    .dataframe thead th {\n",
       "        text-align: right;\n",
       "    }\n",
       "</style>\n",
       "<table border=\"1\" class=\"dataframe\">\n",
       "  <thead>\n",
       "    <tr style=\"text-align: right;\">\n",
       "      <th></th>\n",
       "      <th>date</th>\n",
       "      <th>fips</th>\n",
       "      <th>actuals.newCases</th>\n",
       "      <th>actuals.newDeaths</th>\n",
       "    </tr>\n",
       "  </thead>\n",
       "  <tbody>\n",
       "    <tr>\n",
       "      <th>0</th>\n",
       "      <td>2020-03-09</td>\n",
       "      <td>0</td>\n",
       "      <td>NaN</td>\n",
       "      <td>NaN</td>\n",
       "    </tr>\n",
       "    <tr>\n",
       "      <th>1</th>\n",
       "      <td>2020-03-10</td>\n",
       "      <td>0</td>\n",
       "      <td>NaN</td>\n",
       "      <td>NaN</td>\n",
       "    </tr>\n",
       "    <tr>\n",
       "      <th>2</th>\n",
       "      <td>2020-03-11</td>\n",
       "      <td>0</td>\n",
       "      <td>NaN</td>\n",
       "      <td>NaN</td>\n",
       "    </tr>\n",
       "    <tr>\n",
       "      <th>3</th>\n",
       "      <td>2020-03-12</td>\n",
       "      <td>0</td>\n",
       "      <td>403.0</td>\n",
       "      <td>6.0</td>\n",
       "    </tr>\n",
       "    <tr>\n",
       "      <th>4</th>\n",
       "      <td>2020-03-13</td>\n",
       "      <td>0</td>\n",
       "      <td>542.0</td>\n",
       "      <td>7.0</td>\n",
       "    </tr>\n",
       "  </tbody>\n",
       "</table>\n",
       "</div>"
      ],
      "text/plain": [
       "         date  fips  actuals.newCases  actuals.newDeaths\n",
       "0  2020-03-09     0               NaN                NaN\n",
       "1  2020-03-10     0               NaN                NaN\n",
       "2  2020-03-11     0               NaN                NaN\n",
       "3  2020-03-12     0             403.0                6.0\n",
       "4  2020-03-13     0             542.0                7.0"
      ]
     },
     "execution_count": 138,
     "metadata": {},
     "output_type": "execute_result"
    }
   ],
   "source": [
    "# There are some null and zero values in the data but these will be addressed\n",
    "# when aggregated by month\n",
    "df_us_covid.head()"
   ]
  },
  {
   "cell_type": "code",
   "execution_count": 139,
   "id": "3f9abbb1",
   "metadata": {},
   "outputs": [
    {
     "data": {
      "text/plain": [
       "(1077, 4)"
      ]
     },
     "execution_count": 139,
     "metadata": {},
     "output_type": "execute_result"
    }
   ],
   "source": [
    "df_us_covid.shape"
   ]
  },
  {
   "cell_type": "code",
   "execution_count": 140,
   "id": "f26bea71",
   "metadata": {},
   "outputs": [
    {
     "data": {
      "text/html": [
       "<div>\n",
       "<style scoped>\n",
       "    .dataframe tbody tr th:only-of-type {\n",
       "        vertical-align: middle;\n",
       "    }\n",
       "\n",
       "    .dataframe tbody tr th {\n",
       "        vertical-align: top;\n",
       "    }\n",
       "\n",
       "    .dataframe thead th {\n",
       "        text-align: right;\n",
       "    }\n",
       "</style>\n",
       "<table border=\"1\" class=\"dataframe\">\n",
       "  <thead>\n",
       "    <tr style=\"text-align: right;\">\n",
       "      <th></th>\n",
       "      <th>date</th>\n",
       "      <th>fips</th>\n",
       "      <th>actuals.newCases</th>\n",
       "      <th>actuals.newDeaths</th>\n",
       "    </tr>\n",
       "  </thead>\n",
       "  <tbody>\n",
       "    <tr>\n",
       "      <th>0</th>\n",
       "      <td>2020-05-08</td>\n",
       "      <td>10100</td>\n",
       "      <td>NaN</td>\n",
       "      <td>NaN</td>\n",
       "    </tr>\n",
       "    <tr>\n",
       "      <th>1</th>\n",
       "      <td>2020-05-09</td>\n",
       "      <td>10100</td>\n",
       "      <td>NaN</td>\n",
       "      <td>NaN</td>\n",
       "    </tr>\n",
       "    <tr>\n",
       "      <th>2</th>\n",
       "      <td>2020-05-10</td>\n",
       "      <td>10100</td>\n",
       "      <td>NaN</td>\n",
       "      <td>NaN</td>\n",
       "    </tr>\n",
       "    <tr>\n",
       "      <th>3</th>\n",
       "      <td>2020-05-11</td>\n",
       "      <td>10100</td>\n",
       "      <td>NaN</td>\n",
       "      <td>NaN</td>\n",
       "    </tr>\n",
       "    <tr>\n",
       "      <th>4</th>\n",
       "      <td>2020-05-12</td>\n",
       "      <td>10100</td>\n",
       "      <td>NaN</td>\n",
       "      <td>NaN</td>\n",
       "    </tr>\n",
       "  </tbody>\n",
       "</table>\n",
       "</div>"
      ],
      "text/plain": [
       "         date   fips  actuals.newCases  actuals.newDeaths\n",
       "0  2020-05-08  10100               NaN                NaN\n",
       "1  2020-05-09  10100               NaN                NaN\n",
       "2  2020-05-10  10100               NaN                NaN\n",
       "3  2020-05-11  10100               NaN                NaN\n",
       "4  2020-05-12  10100               NaN                NaN"
      ]
     },
     "execution_count": 140,
     "metadata": {},
     "output_type": "execute_result"
    }
   ],
   "source": [
    "# Again, there are some null and zero values as particular locations may\n",
    "# not have reported statistics on a given day\n",
    "df_cbsa_covid.head()"
   ]
  },
  {
   "cell_type": "code",
   "execution_count": 141,
   "id": "59349434",
   "metadata": {},
   "outputs": [
    {
     "data": {
      "text/plain": [
       "(1008729, 4)"
      ]
     },
     "execution_count": 141,
     "metadata": {},
     "output_type": "execute_result"
    }
   ],
   "source": [
    "df_cbsa_covid.shape"
   ]
  },
  {
   "cell_type": "markdown",
   "id": "a203f8c3",
   "metadata": {},
   "source": [
    "### 2.2 - Organize the covid data, aggregating to months in order to match the travel data"
   ]
  },
  {
   "cell_type": "code",
   "execution_count": 142,
   "id": "e0e2861a",
   "metadata": {},
   "outputs": [],
   "source": [
    "# function to prep covid data\n",
    "def process_covid_df(df):\n",
    "    # Convert date string to datetime\n",
    "    df['date'] = pd.to_datetime(df.date, format='%Y-%m-%d')\n",
    "    \n",
    "    # Group by month\n",
    "    df = df.groupby([df.date.dt.year,df.date.dt.month,df.fips]).sum(numeric_only=True)\n",
    "    \n",
    "    # Reorganize index and columns\n",
    "    df.index.names = ['year','month','fips']\n",
    "    df.columns = ['cases','deaths']\n",
    "    df.reset_index(inplace=True)\n",
    "    df = df[df.year<2023]\n",
    "    df['date'] = pd.to_datetime(dict(year=df.year, month=df.month, day=1))\n",
    "    df.index = [df.date, df.fips]\n",
    "    df.drop(['year','month','date', 'fips'], axis=1, inplace=True)\n",
    "    df = df[(df.cases>0) | (df.deaths>0)]\n",
    "    \n",
    "    return df"
   ]
  },
  {
   "cell_type": "code",
   "execution_count": 143,
   "id": "ac865130",
   "metadata": {},
   "outputs": [],
   "source": [
    "# Prepare covid data at the monthly level\n",
    "df_us_covid = process_covid_df(df_us_covid)\n",
    "df_cbsa_covid = process_covid_df(df_cbsa_covid)"
   ]
  },
  {
   "cell_type": "code",
   "execution_count": 144,
   "id": "1339eb7d",
   "metadata": {},
   "outputs": [],
   "source": [
    "# combine national and regional covid dfs\n",
    "df_covid = pd.concat([df_us_covid, df_cbsa_covid])\n",
    "df_covid = df_covid.reset_index().set_index('date')"
   ]
  },
  {
   "cell_type": "code",
   "execution_count": 145,
   "id": "a1c49c4e",
   "metadata": {},
   "outputs": [
    {
     "data": {
      "text/html": [
       "<div>\n",
       "<style scoped>\n",
       "    .dataframe tbody tr th:only-of-type {\n",
       "        vertical-align: middle;\n",
       "    }\n",
       "\n",
       "    .dataframe tbody tr th {\n",
       "        vertical-align: top;\n",
       "    }\n",
       "\n",
       "    .dataframe thead th {\n",
       "        text-align: right;\n",
       "    }\n",
       "</style>\n",
       "<table border=\"1\" class=\"dataframe\">\n",
       "  <thead>\n",
       "    <tr style=\"text-align: right;\">\n",
       "      <th></th>\n",
       "      <th>fips</th>\n",
       "      <th>cases</th>\n",
       "      <th>deaths</th>\n",
       "    </tr>\n",
       "    <tr>\n",
       "      <th>date</th>\n",
       "      <th></th>\n",
       "      <th></th>\n",
       "      <th></th>\n",
       "    </tr>\n",
       "  </thead>\n",
       "  <tbody>\n",
       "    <tr>\n",
       "      <th>2020-03-01</th>\n",
       "      <td>0</td>\n",
       "      <td>184104.0</td>\n",
       "      <td>4199.0</td>\n",
       "    </tr>\n",
       "    <tr>\n",
       "      <th>2020-04-01</th>\n",
       "      <td>0</td>\n",
       "      <td>883830.0</td>\n",
       "      <td>55938.0</td>\n",
       "    </tr>\n",
       "    <tr>\n",
       "      <th>2020-05-01</th>\n",
       "      <td>0</td>\n",
       "      <td>721682.0</td>\n",
       "      <td>38464.0</td>\n",
       "    </tr>\n",
       "    <tr>\n",
       "      <th>2020-06-01</th>\n",
       "      <td>0</td>\n",
       "      <td>820785.0</td>\n",
       "      <td>18498.0</td>\n",
       "    </tr>\n",
       "    <tr>\n",
       "      <th>2020-07-01</th>\n",
       "      <td>0</td>\n",
       "      <td>1916317.0</td>\n",
       "      <td>24599.0</td>\n",
       "    </tr>\n",
       "  </tbody>\n",
       "</table>\n",
       "</div>"
      ],
      "text/plain": [
       "            fips      cases   deaths\n",
       "date                                \n",
       "2020-03-01     0   184104.0   4199.0\n",
       "2020-04-01     0   883830.0  55938.0\n",
       "2020-05-01     0   721682.0  38464.0\n",
       "2020-06-01     0   820785.0  18498.0\n",
       "2020-07-01     0  1916317.0  24599.0"
      ]
     },
     "execution_count": 145,
     "metadata": {},
     "output_type": "execute_result"
    }
   ],
   "source": [
    "df_covid.head()"
   ]
  },
  {
   "cell_type": "code",
   "execution_count": 146,
   "id": "87fda130",
   "metadata": {},
   "outputs": [
    {
     "data": {
      "text/plain": [
       "(31566, 3)"
      ]
     },
     "execution_count": 146,
     "metadata": {},
     "output_type": "execute_result"
    }
   ],
   "source": [
    "df_covid.shape"
   ]
  },
  {
   "cell_type": "markdown",
   "id": "e7af45cb",
   "metadata": {},
   "source": [
    "### 2.3 - Write our finalized covid data to file"
   ]
  },
  {
   "cell_type": "code",
   "execution_count": 147,
   "id": "bfc9e0f8",
   "metadata": {},
   "outputs": [],
   "source": [
    "# Write files as pickles for future use\n",
    "df_covid.to_pickle('covid_data.pkl', protocol=4)"
   ]
  },
  {
   "cell_type": "markdown",
   "id": "4c709471",
   "metadata": {},
   "source": [
    "# 3.0 - Location join information"
   ]
  },
  {
   "cell_type": "markdown",
   "id": "838be1b4",
   "metadata": {},
   "source": [
    "The Bureau of Transportation Statistics and the Covid Act Now Coalition use different codes for locations.  We manually created a lookup table compiling the codes of 40 locations in order to join the covid data and travel data for those locations. (We trimmed two of the locations due to missing data in COVID statistics and added a summary row to cover the national-level data.)"
   ]
  },
  {
   "cell_type": "code",
   "execution_count": 148,
   "id": "8c5d715e",
   "metadata": {},
   "outputs": [],
   "source": [
    "df_loc_join = pd.read_csv('code_lookup.csv')"
   ]
  },
  {
   "cell_type": "code",
   "execution_count": 149,
   "id": "2225859e",
   "metadata": {},
   "outputs": [
    {
     "data": {
      "text/html": [
       "<div>\n",
       "<style scoped>\n",
       "    .dataframe tbody tr th:only-of-type {\n",
       "        vertical-align: middle;\n",
       "    }\n",
       "\n",
       "    .dataframe tbody tr th {\n",
       "        vertical-align: top;\n",
       "    }\n",
       "\n",
       "    .dataframe thead th {\n",
       "        text-align: right;\n",
       "    }\n",
       "</style>\n",
       "<table border=\"1\" class=\"dataframe\">\n",
       "  <thead>\n",
       "    <tr style=\"text-align: right;\">\n",
       "      <th></th>\n",
       "      <th>Market Name</th>\n",
       "      <th>Code</th>\n",
       "      <th>Market</th>\n",
       "      <th>CBSA</th>\n",
       "    </tr>\n",
       "  </thead>\n",
       "  <tbody>\n",
       "    <tr>\n",
       "      <th>0</th>\n",
       "      <td>USA</td>\n",
       "      <td>USA</td>\n",
       "      <td>0</td>\n",
       "      <td>0</td>\n",
       "    </tr>\n",
       "    <tr>\n",
       "      <th>1</th>\n",
       "      <td>Atlanta, GA</td>\n",
       "      <td>ATL</td>\n",
       "      <td>30397</td>\n",
       "      <td>12060</td>\n",
       "    </tr>\n",
       "    <tr>\n",
       "      <th>2</th>\n",
       "      <td>Dallas/Fort Worth, TX</td>\n",
       "      <td>DFW</td>\n",
       "      <td>30194</td>\n",
       "      <td>19100</td>\n",
       "    </tr>\n",
       "    <tr>\n",
       "      <th>3</th>\n",
       "      <td>New York City, NY</td>\n",
       "      <td>NYC</td>\n",
       "      <td>31703</td>\n",
       "      <td>35620</td>\n",
       "    </tr>\n",
       "    <tr>\n",
       "      <th>4</th>\n",
       "      <td>Chicago, IL</td>\n",
       "      <td>CHI</td>\n",
       "      <td>30977</td>\n",
       "      <td>16980</td>\n",
       "    </tr>\n",
       "  </tbody>\n",
       "</table>\n",
       "</div>"
      ],
      "text/plain": [
       "             Market Name Code  Market   CBSA\n",
       "0                    USA  USA       0      0\n",
       "1            Atlanta, GA  ATL   30397  12060\n",
       "2  Dallas/Fort Worth, TX  DFW   30194  19100\n",
       "3      New York City, NY  NYC   31703  35620\n",
       "4            Chicago, IL  CHI   30977  16980"
      ]
     },
     "execution_count": 149,
     "metadata": {},
     "output_type": "execute_result"
    }
   ],
   "source": [
    "df_loc_join.head()"
   ]
  },
  {
   "cell_type": "code",
   "execution_count": 150,
   "id": "529a5020",
   "metadata": {},
   "outputs": [
    {
     "data": {
      "text/plain": [
       "(39, 4)"
      ]
     },
     "execution_count": 150,
     "metadata": {},
     "output_type": "execute_result"
    }
   ],
   "source": [
    "df_loc_join.shape"
   ]
  },
  {
   "cell_type": "markdown",
   "id": "8e9d2a47",
   "metadata": {},
   "source": [
    "# 4.0 - Join the travel data and covid data"
   ]
  },
  {
   "cell_type": "markdown",
   "id": "126e6649",
   "metadata": {},
   "source": [
    "### 4.1 - Get the subset of travel data as specified by our location selection"
   ]
  },
  {
   "cell_type": "code",
   "execution_count": 151,
   "id": "abe5c8de",
   "metadata": {},
   "outputs": [],
   "source": [
    "# get unique list of travel locations\n",
    "list_travel_loc = df_loc_join['Market'].unique()\n",
    "\n",
    "# get subset of travel data that we're looking for\n",
    "df_selected_travel = df_bts_final.loc[df_bts_final['bts_loc_code'].isin(list_travel_loc)].copy()"
   ]
  },
  {
   "cell_type": "code",
   "execution_count": 152,
   "id": "37d37a57",
   "metadata": {},
   "outputs": [
    {
     "data": {
      "text/html": [
       "<div>\n",
       "<style scoped>\n",
       "    .dataframe tbody tr th:only-of-type {\n",
       "        vertical-align: middle;\n",
       "    }\n",
       "\n",
       "    .dataframe tbody tr th {\n",
       "        vertical-align: top;\n",
       "    }\n",
       "\n",
       "    .dataframe thead th {\n",
       "        text-align: right;\n",
       "    }\n",
       "</style>\n",
       "<table border=\"1\" class=\"dataframe\">\n",
       "  <thead>\n",
       "    <tr style=\"text-align: right;\">\n",
       "      <th></th>\n",
       "      <th>date</th>\n",
       "      <th>bts_loc_code</th>\n",
       "      <th>carrier</th>\n",
       "      <th>p_origin</th>\n",
       "      <th>p_dest</th>\n",
       "      <th>passengers</th>\n",
       "    </tr>\n",
       "  </thead>\n",
       "  <tbody>\n",
       "    <tr>\n",
       "      <th>0</th>\n",
       "      <td>2020-01-01</td>\n",
       "      <td>0</td>\n",
       "      <td>ALL</td>\n",
       "      <td>61848685.0</td>\n",
       "      <td>61848685.0</td>\n",
       "      <td>61848685.0</td>\n",
       "    </tr>\n",
       "    <tr>\n",
       "      <th>26</th>\n",
       "      <td>2020-01-01</td>\n",
       "      <td>30194</td>\n",
       "      <td>ALL</td>\n",
       "      <td>3011461.0</td>\n",
       "      <td>3021309.0</td>\n",
       "      <td>6032770.0</td>\n",
       "    </tr>\n",
       "    <tr>\n",
       "      <th>27</th>\n",
       "      <td>2020-01-01</td>\n",
       "      <td>30198</td>\n",
       "      <td>ALL</td>\n",
       "      <td>318960.0</td>\n",
       "      <td>318072.0</td>\n",
       "      <td>637032.0</td>\n",
       "    </tr>\n",
       "    <tr>\n",
       "      <th>50</th>\n",
       "      <td>2020-01-01</td>\n",
       "      <td>30325</td>\n",
       "      <td>ALL</td>\n",
       "      <td>2395554.0</td>\n",
       "      <td>2383739.0</td>\n",
       "      <td>4779293.0</td>\n",
       "    </tr>\n",
       "    <tr>\n",
       "      <th>57</th>\n",
       "      <td>2020-01-01</td>\n",
       "      <td>30397</td>\n",
       "      <td>ALL</td>\n",
       "      <td>3532810.0</td>\n",
       "      <td>3550718.0</td>\n",
       "      <td>7083528.0</td>\n",
       "    </tr>\n",
       "  </tbody>\n",
       "</table>\n",
       "</div>"
      ],
      "text/plain": [
       "         date  bts_loc_code carrier    p_origin      p_dest  passengers\n",
       "0  2020-01-01             0     ALL  61848685.0  61848685.0  61848685.0\n",
       "26 2020-01-01         30194     ALL   3011461.0   3021309.0   6032770.0\n",
       "27 2020-01-01         30198     ALL    318960.0    318072.0    637032.0\n",
       "50 2020-01-01         30325     ALL   2395554.0   2383739.0   4779293.0\n",
       "57 2020-01-01         30397     ALL   3532810.0   3550718.0   7083528.0"
      ]
     },
     "execution_count": 152,
     "metadata": {},
     "output_type": "execute_result"
    }
   ],
   "source": [
    "df_selected_travel.head()"
   ]
  },
  {
   "cell_type": "code",
   "execution_count": 153,
   "id": "044f6d39",
   "metadata": {},
   "outputs": [
    {
     "data": {
      "text/plain": [
       "(31481, 6)"
      ]
     },
     "execution_count": 153,
     "metadata": {},
     "output_type": "execute_result"
    }
   ],
   "source": [
    "df_selected_travel.shape"
   ]
  },
  {
   "cell_type": "markdown",
   "id": "0190c84a",
   "metadata": {},
   "source": [
    "### 4.2 - Add join information (location name and 3-char code) for each BTS location code"
   ]
  },
  {
   "cell_type": "code",
   "execution_count": 154,
   "id": "fd64d580",
   "metadata": {},
   "outputs": [],
   "source": [
    "# for each unique bts location code\n",
    "for bts_loc in list_travel_loc:\n",
    "    # get the location name\n",
    "    loc_name = df_loc_join.loc[df_loc_join['Market']==bts_loc]['Market Name'].iloc[0]\n",
    "    df_selected_travel.loc[df_selected_travel['bts_loc_code'] == bts_loc, 'location'] = loc_name\n",
    "    \n",
    "    # get the 3-char location code\n",
    "    loc_code = df_loc_join.loc[df_loc_join['Market']==bts_loc]['Code'].iloc[0]\n",
    "    df_selected_travel.loc[df_selected_travel['location'] == loc_name, 'loc_code'] = loc_code\n",
    "    \n",
    "# reorder columns, drop bts_loc_code    \n",
    "df_selected_travel = df_selected_travel[['date', 'location', 'loc_code', 'carrier', 'p_origin', 'p_dest', 'passengers']]"
   ]
  },
  {
   "cell_type": "code",
   "execution_count": 155,
   "id": "5d5889b5",
   "metadata": {},
   "outputs": [
    {
     "data": {
      "text/html": [
       "<div>\n",
       "<style scoped>\n",
       "    .dataframe tbody tr th:only-of-type {\n",
       "        vertical-align: middle;\n",
       "    }\n",
       "\n",
       "    .dataframe tbody tr th {\n",
       "        vertical-align: top;\n",
       "    }\n",
       "\n",
       "    .dataframe thead th {\n",
       "        text-align: right;\n",
       "    }\n",
       "</style>\n",
       "<table border=\"1\" class=\"dataframe\">\n",
       "  <thead>\n",
       "    <tr style=\"text-align: right;\">\n",
       "      <th></th>\n",
       "      <th>date</th>\n",
       "      <th>location</th>\n",
       "      <th>loc_code</th>\n",
       "      <th>carrier</th>\n",
       "      <th>p_origin</th>\n",
       "      <th>p_dest</th>\n",
       "      <th>passengers</th>\n",
       "    </tr>\n",
       "  </thead>\n",
       "  <tbody>\n",
       "    <tr>\n",
       "      <th>0</th>\n",
       "      <td>2020-01-01</td>\n",
       "      <td>USA</td>\n",
       "      <td>USA</td>\n",
       "      <td>ALL</td>\n",
       "      <td>61848685.0</td>\n",
       "      <td>61848685.0</td>\n",
       "      <td>61848685.0</td>\n",
       "    </tr>\n",
       "    <tr>\n",
       "      <th>26</th>\n",
       "      <td>2020-01-01</td>\n",
       "      <td>Dallas/Fort Worth, TX</td>\n",
       "      <td>DFW</td>\n",
       "      <td>ALL</td>\n",
       "      <td>3011461.0</td>\n",
       "      <td>3021309.0</td>\n",
       "      <td>6032770.0</td>\n",
       "    </tr>\n",
       "    <tr>\n",
       "      <th>27</th>\n",
       "      <td>2020-01-01</td>\n",
       "      <td>Pittsburgh, PA</td>\n",
       "      <td>PIT</td>\n",
       "      <td>ALL</td>\n",
       "      <td>318960.0</td>\n",
       "      <td>318072.0</td>\n",
       "      <td>637032.0</td>\n",
       "    </tr>\n",
       "    <tr>\n",
       "      <th>50</th>\n",
       "      <td>2020-01-01</td>\n",
       "      <td>Denver, CO</td>\n",
       "      <td>DEN</td>\n",
       "      <td>ALL</td>\n",
       "      <td>2395554.0</td>\n",
       "      <td>2383739.0</td>\n",
       "      <td>4779293.0</td>\n",
       "    </tr>\n",
       "    <tr>\n",
       "      <th>57</th>\n",
       "      <td>2020-01-01</td>\n",
       "      <td>Atlanta, GA</td>\n",
       "      <td>ATL</td>\n",
       "      <td>ALL</td>\n",
       "      <td>3532810.0</td>\n",
       "      <td>3550718.0</td>\n",
       "      <td>7083528.0</td>\n",
       "    </tr>\n",
       "  </tbody>\n",
       "</table>\n",
       "</div>"
      ],
      "text/plain": [
       "         date               location loc_code carrier    p_origin      p_dest  \\\n",
       "0  2020-01-01                    USA      USA     ALL  61848685.0  61848685.0   \n",
       "26 2020-01-01  Dallas/Fort Worth, TX      DFW     ALL   3011461.0   3021309.0   \n",
       "27 2020-01-01         Pittsburgh, PA      PIT     ALL    318960.0    318072.0   \n",
       "50 2020-01-01             Denver, CO      DEN     ALL   2395554.0   2383739.0   \n",
       "57 2020-01-01            Atlanta, GA      ATL     ALL   3532810.0   3550718.0   \n",
       "\n",
       "    passengers  \n",
       "0   61848685.0  \n",
       "26   6032770.0  \n",
       "27    637032.0  \n",
       "50   4779293.0  \n",
       "57   7083528.0  "
      ]
     },
     "execution_count": 155,
     "metadata": {},
     "output_type": "execute_result"
    }
   ],
   "source": [
    "df_selected_travel.head()"
   ]
  },
  {
   "cell_type": "code",
   "execution_count": 156,
   "id": "4b71fe66",
   "metadata": {},
   "outputs": [
    {
     "data": {
      "text/plain": [
       "(31481, 7)"
      ]
     },
     "execution_count": 156,
     "metadata": {},
     "output_type": "execute_result"
    }
   ],
   "source": [
    "df_selected_travel.shape"
   ]
  },
  {
   "cell_type": "markdown",
   "id": "8eced3bb",
   "metadata": {},
   "source": [
    "### 4.3 - Get the subset of covid data as specified by our location selection"
   ]
  },
  {
   "cell_type": "code",
   "execution_count": 157,
   "id": "422649df",
   "metadata": {},
   "outputs": [],
   "source": [
    "# get unique list of covid locations\n",
    "covid_loc_list = df_loc_join['CBSA'].unique()\n",
    "\n",
    "# get subset of covid data that we're looking for\n",
    "df_final_covid = df_covid.loc[df_covid['fips'].isin(covid_loc_list)]\n",
    "\n",
    "# rename fips column\n",
    "df_final_covid = df_final_covid.rename(columns={'fips': 'covid_loc_code'})"
   ]
  },
  {
   "cell_type": "code",
   "execution_count": 158,
   "id": "e09a91d6",
   "metadata": {},
   "outputs": [
    {
     "data": {
      "text/html": [
       "<div>\n",
       "<style scoped>\n",
       "    .dataframe tbody tr th:only-of-type {\n",
       "        vertical-align: middle;\n",
       "    }\n",
       "\n",
       "    .dataframe tbody tr th {\n",
       "        vertical-align: top;\n",
       "    }\n",
       "\n",
       "    .dataframe thead th {\n",
       "        text-align: right;\n",
       "    }\n",
       "</style>\n",
       "<table border=\"1\" class=\"dataframe\">\n",
       "  <thead>\n",
       "    <tr style=\"text-align: right;\">\n",
       "      <th></th>\n",
       "      <th>covid_loc_code</th>\n",
       "      <th>cases</th>\n",
       "      <th>deaths</th>\n",
       "    </tr>\n",
       "    <tr>\n",
       "      <th>date</th>\n",
       "      <th></th>\n",
       "      <th></th>\n",
       "      <th></th>\n",
       "    </tr>\n",
       "  </thead>\n",
       "  <tbody>\n",
       "    <tr>\n",
       "      <th>2020-03-01</th>\n",
       "      <td>0</td>\n",
       "      <td>184104.0</td>\n",
       "      <td>4199.0</td>\n",
       "    </tr>\n",
       "    <tr>\n",
       "      <th>2020-04-01</th>\n",
       "      <td>0</td>\n",
       "      <td>883830.0</td>\n",
       "      <td>55938.0</td>\n",
       "    </tr>\n",
       "    <tr>\n",
       "      <th>2020-05-01</th>\n",
       "      <td>0</td>\n",
       "      <td>721682.0</td>\n",
       "      <td>38464.0</td>\n",
       "    </tr>\n",
       "    <tr>\n",
       "      <th>2020-06-01</th>\n",
       "      <td>0</td>\n",
       "      <td>820785.0</td>\n",
       "      <td>18498.0</td>\n",
       "    </tr>\n",
       "    <tr>\n",
       "      <th>2020-07-01</th>\n",
       "      <td>0</td>\n",
       "      <td>1916317.0</td>\n",
       "      <td>24599.0</td>\n",
       "    </tr>\n",
       "  </tbody>\n",
       "</table>\n",
       "</div>"
      ],
      "text/plain": [
       "            covid_loc_code      cases   deaths\n",
       "date                                          \n",
       "2020-03-01               0   184104.0   4199.0\n",
       "2020-04-01               0   883830.0  55938.0\n",
       "2020-05-01               0   721682.0  38464.0\n",
       "2020-06-01               0   820785.0  18498.0\n",
       "2020-07-01               0  1916317.0  24599.0"
      ]
     },
     "execution_count": 158,
     "metadata": {},
     "output_type": "execute_result"
    }
   ],
   "source": [
    "df_final_covid.head()"
   ]
  },
  {
   "cell_type": "code",
   "execution_count": 159,
   "id": "31e3e6d1",
   "metadata": {},
   "outputs": [
    {
     "data": {
      "text/plain": [
       "(1322, 3)"
      ]
     },
     "execution_count": 159,
     "metadata": {},
     "output_type": "execute_result"
    }
   ],
   "source": [
    "df_final_covid.shape"
   ]
  },
  {
   "cell_type": "markdown",
   "id": "6ae2fd9e",
   "metadata": {},
   "source": [
    "### 4.4 - Add join information (location name and 3-char code) for each covid location code"
   ]
  },
  {
   "cell_type": "code",
   "execution_count": 160,
   "id": "82d98c3c",
   "metadata": {},
   "outputs": [],
   "source": [
    "# replace location, add loc\n",
    "for cov_loc in covid_loc_list:\n",
    "    # get the location name\n",
    "    loc_name = df_loc_join.loc[df_loc_join['CBSA']==cov_loc]['Market Name'].iloc[0]\n",
    "    df_final_covid.loc[df_final_covid['covid_loc_code'] == cov_loc, 'location'] = loc_name\n",
    "    \n",
    "    # get the 3-char location code\n",
    "    loc_code = df_loc_join.loc[df_loc_join['CBSA']==cov_loc]['Code'].iloc[0]\n",
    "    df_final_covid.loc[df_final_covid['covid_loc_code'] == cov_loc, 'loc_code'] = loc_code\n",
    "    \n",
    "# reorder columns, drop covid_loc_code      \n",
    "df_final_covid = df_final_covid[['location', 'loc_code', 'cases', 'deaths']]"
   ]
  },
  {
   "cell_type": "code",
   "execution_count": 161,
   "id": "95e4db95",
   "metadata": {},
   "outputs": [
    {
     "data": {
      "text/html": [
       "<div>\n",
       "<style scoped>\n",
       "    .dataframe tbody tr th:only-of-type {\n",
       "        vertical-align: middle;\n",
       "    }\n",
       "\n",
       "    .dataframe tbody tr th {\n",
       "        vertical-align: top;\n",
       "    }\n",
       "\n",
       "    .dataframe thead th {\n",
       "        text-align: right;\n",
       "    }\n",
       "</style>\n",
       "<table border=\"1\" class=\"dataframe\">\n",
       "  <thead>\n",
       "    <tr style=\"text-align: right;\">\n",
       "      <th></th>\n",
       "      <th>location</th>\n",
       "      <th>loc_code</th>\n",
       "      <th>cases</th>\n",
       "      <th>deaths</th>\n",
       "    </tr>\n",
       "    <tr>\n",
       "      <th>date</th>\n",
       "      <th></th>\n",
       "      <th></th>\n",
       "      <th></th>\n",
       "      <th></th>\n",
       "    </tr>\n",
       "  </thead>\n",
       "  <tbody>\n",
       "    <tr>\n",
       "      <th>2020-03-01</th>\n",
       "      <td>USA</td>\n",
       "      <td>USA</td>\n",
       "      <td>184104.0</td>\n",
       "      <td>4199.0</td>\n",
       "    </tr>\n",
       "    <tr>\n",
       "      <th>2020-04-01</th>\n",
       "      <td>USA</td>\n",
       "      <td>USA</td>\n",
       "      <td>883830.0</td>\n",
       "      <td>55938.0</td>\n",
       "    </tr>\n",
       "    <tr>\n",
       "      <th>2020-05-01</th>\n",
       "      <td>USA</td>\n",
       "      <td>USA</td>\n",
       "      <td>721682.0</td>\n",
       "      <td>38464.0</td>\n",
       "    </tr>\n",
       "    <tr>\n",
       "      <th>2020-06-01</th>\n",
       "      <td>USA</td>\n",
       "      <td>USA</td>\n",
       "      <td>820785.0</td>\n",
       "      <td>18498.0</td>\n",
       "    </tr>\n",
       "    <tr>\n",
       "      <th>2020-07-01</th>\n",
       "      <td>USA</td>\n",
       "      <td>USA</td>\n",
       "      <td>1916317.0</td>\n",
       "      <td>24599.0</td>\n",
       "    </tr>\n",
       "  </tbody>\n",
       "</table>\n",
       "</div>"
      ],
      "text/plain": [
       "           location loc_code      cases   deaths\n",
       "date                                            \n",
       "2020-03-01      USA      USA   184104.0   4199.0\n",
       "2020-04-01      USA      USA   883830.0  55938.0\n",
       "2020-05-01      USA      USA   721682.0  38464.0\n",
       "2020-06-01      USA      USA   820785.0  18498.0\n",
       "2020-07-01      USA      USA  1916317.0  24599.0"
      ]
     },
     "execution_count": 161,
     "metadata": {},
     "output_type": "execute_result"
    }
   ],
   "source": [
    "df_final_covid.head()"
   ]
  },
  {
   "cell_type": "code",
   "execution_count": 162,
   "id": "e925cca5",
   "metadata": {},
   "outputs": [
    {
     "data": {
      "text/plain": [
       "(1322, 4)"
      ]
     },
     "execution_count": 162,
     "metadata": {},
     "output_type": "execute_result"
    }
   ],
   "source": [
    "df_final_covid.shape"
   ]
  },
  {
   "cell_type": "markdown",
   "id": "048d6b25",
   "metadata": {},
   "source": [
    "### 4.5 - Join covid data with travel data on location join data"
   ]
  },
  {
   "cell_type": "code",
   "execution_count": 163,
   "id": "790cd628-082b-4172-84d2-8471f243fc74",
   "metadata": {},
   "outputs": [],
   "source": [
    "# final merge\n",
    "df_final_merged = pd.merge(df_selected_travel.reset_index(), df_final_covid.reset_index(), \n",
    "                           left_on=['date', 'location', 'loc_code'], right_on=['date', 'location', 'loc_code'])\n",
    "\n",
    "# set columns\n",
    "df_final_merged = df_final_merged[['date', 'location', 'loc_code', 'carrier', \n",
    "                                   'p_origin', 'p_dest', 'passengers', \n",
    "                                   'cases', 'deaths']]"
   ]
  },
  {
   "cell_type": "code",
   "execution_count": 164,
   "id": "b1ef0220",
   "metadata": {},
   "outputs": [
    {
     "data": {
      "text/html": [
       "<div>\n",
       "<style scoped>\n",
       "    .dataframe tbody tr th:only-of-type {\n",
       "        vertical-align: middle;\n",
       "    }\n",
       "\n",
       "    .dataframe tbody tr th {\n",
       "        vertical-align: top;\n",
       "    }\n",
       "\n",
       "    .dataframe thead th {\n",
       "        text-align: right;\n",
       "    }\n",
       "</style>\n",
       "<table border=\"1\" class=\"dataframe\">\n",
       "  <thead>\n",
       "    <tr style=\"text-align: right;\">\n",
       "      <th></th>\n",
       "      <th>date</th>\n",
       "      <th>location</th>\n",
       "      <th>loc_code</th>\n",
       "      <th>carrier</th>\n",
       "      <th>p_origin</th>\n",
       "      <th>p_dest</th>\n",
       "      <th>passengers</th>\n",
       "      <th>cases</th>\n",
       "      <th>deaths</th>\n",
       "    </tr>\n",
       "  </thead>\n",
       "  <tbody>\n",
       "    <tr>\n",
       "      <th>0</th>\n",
       "      <td>2020-03-01</td>\n",
       "      <td>USA</td>\n",
       "      <td>USA</td>\n",
       "      <td>ALL</td>\n",
       "      <td>34527687.0</td>\n",
       "      <td>34527687.0</td>\n",
       "      <td>34527687.0</td>\n",
       "      <td>184104.0</td>\n",
       "      <td>4199.0</td>\n",
       "    </tr>\n",
       "    <tr>\n",
       "      <th>1</th>\n",
       "      <td>2020-03-01</td>\n",
       "      <td>USA</td>\n",
       "      <td>USA</td>\n",
       "      <td>04Q</td>\n",
       "      <td>274.0</td>\n",
       "      <td>274.0</td>\n",
       "      <td>274.0</td>\n",
       "      <td>184104.0</td>\n",
       "      <td>4199.0</td>\n",
       "    </tr>\n",
       "    <tr>\n",
       "      <th>2</th>\n",
       "      <td>2020-03-01</td>\n",
       "      <td>USA</td>\n",
       "      <td>USA</td>\n",
       "      <td>09Q</td>\n",
       "      <td>26506.0</td>\n",
       "      <td>26506.0</td>\n",
       "      <td>26506.0</td>\n",
       "      <td>184104.0</td>\n",
       "      <td>4199.0</td>\n",
       "    </tr>\n",
       "    <tr>\n",
       "      <th>3</th>\n",
       "      <td>2020-03-01</td>\n",
       "      <td>USA</td>\n",
       "      <td>USA</td>\n",
       "      <td>1EQ</td>\n",
       "      <td>637.0</td>\n",
       "      <td>637.0</td>\n",
       "      <td>637.0</td>\n",
       "      <td>184104.0</td>\n",
       "      <td>4199.0</td>\n",
       "    </tr>\n",
       "    <tr>\n",
       "      <th>4</th>\n",
       "      <td>2020-03-01</td>\n",
       "      <td>USA</td>\n",
       "      <td>USA</td>\n",
       "      <td>1QQ</td>\n",
       "      <td>417.0</td>\n",
       "      <td>417.0</td>\n",
       "      <td>417.0</td>\n",
       "      <td>184104.0</td>\n",
       "      <td>4199.0</td>\n",
       "    </tr>\n",
       "  </tbody>\n",
       "</table>\n",
       "</div>"
      ],
      "text/plain": [
       "        date location loc_code carrier    p_origin      p_dest  passengers  \\\n",
       "0 2020-03-01      USA      USA     ALL  34527687.0  34527687.0  34527687.0   \n",
       "1 2020-03-01      USA      USA     04Q       274.0       274.0       274.0   \n",
       "2 2020-03-01      USA      USA     09Q     26506.0     26506.0     26506.0   \n",
       "3 2020-03-01      USA      USA     1EQ       637.0       637.0       637.0   \n",
       "4 2020-03-01      USA      USA     1QQ       417.0       417.0       417.0   \n",
       "\n",
       "      cases  deaths  \n",
       "0  184104.0  4199.0  \n",
       "1  184104.0  4199.0  \n",
       "2  184104.0  4199.0  \n",
       "3  184104.0  4199.0  \n",
       "4  184104.0  4199.0  "
      ]
     },
     "execution_count": 164,
     "metadata": {},
     "output_type": "execute_result"
    }
   ],
   "source": [
    "df_final_merged.head()"
   ]
  },
  {
   "cell_type": "code",
   "execution_count": 165,
   "id": "3b08e748",
   "metadata": {},
   "outputs": [
    {
     "data": {
      "text/plain": [
       "(29479, 9)"
      ]
     },
     "execution_count": 165,
     "metadata": {},
     "output_type": "execute_result"
    }
   ],
   "source": [
    "df_final_merged.shape"
   ]
  },
  {
   "cell_type": "markdown",
   "id": "31d923dc",
   "metadata": {},
   "source": [
    "### 4.6 - Write our finalized dataframe to file"
   ]
  },
  {
   "cell_type": "code",
   "execution_count": 166,
   "id": "7efa2d4e",
   "metadata": {},
   "outputs": [],
   "source": [
    "df_final_merged.to_pickle('Compiled_data.pkl', protocol=4)"
   ]
  },
  {
   "cell_type": "markdown",
   "id": "afa34349",
   "metadata": {},
   "source": [
    "# 5.0 - Profile data, all locations aggregated, all airlines aggregated"
   ]
  },
  {
   "cell_type": "code",
   "execution_count": 167,
   "id": "562176bf",
   "metadata": {},
   "outputs": [],
   "source": [
    "usa_df = df_final_merged.loc[(df_final_merged['loc_code']=='USA') & (df_final_merged['carrier']=='ALL')]"
   ]
  },
  {
   "cell_type": "code",
   "execution_count": 168,
   "id": "8f36d15a",
   "metadata": {},
   "outputs": [],
   "source": [
    "profile_report = ProfileReport(usa_df, title='Covid/Travel Data Profile Report')"
   ]
  },
  {
   "cell_type": "code",
   "execution_count": 169,
   "id": "614c23c6",
   "metadata": {},
   "outputs": [
    {
     "data": {
      "application/vnd.jupyter.widget-view+json": {
       "model_id": "fad067190089411f8e4dcf5e27e41748",
       "version_major": 2,
       "version_minor": 0
      },
      "text/plain": [
       "Summarize dataset:   0%|          | 0/5 [00:00<?, ?it/s]"
      ]
     },
     "metadata": {},
     "output_type": "display_data"
    },
    {
     "data": {
      "application/vnd.jupyter.widget-view+json": {
       "model_id": "b192b7942dbf4f10bf38049a7eb527cc",
       "version_major": 2,
       "version_minor": 0
      },
      "text/plain": [
       "Generate report structure:   0%|          | 0/1 [00:00<?, ?it/s]"
      ]
     },
     "metadata": {},
     "output_type": "display_data"
    },
    {
     "data": {
      "application/vnd.jupyter.widget-view+json": {
       "model_id": "3ae4148d2e3c44f097d47d2105211423",
       "version_major": 2,
       "version_minor": 0
      },
      "text/plain": [
       "Render HTML:   0%|          | 0/1 [00:00<?, ?it/s]"
      ]
     },
     "metadata": {},
     "output_type": "display_data"
    },
    {
     "data": {
      "application/vnd.jupyter.widget-view+json": {
       "model_id": "c0babc3576a84cb0abef8b83a02db4ca",
       "version_major": 2,
       "version_minor": 0
      },
      "text/plain": [
       "Export report to file:   0%|          | 0/1 [00:00<?, ?it/s]"
      ]
     },
     "metadata": {},
     "output_type": "display_data"
    }
   ],
   "source": [
    "profile_report.to_file('COVID_Travel_US_Profile.html')"
   ]
  },
  {
   "cell_type": "code",
   "execution_count": null,
   "id": "ba8821d5",
   "metadata": {},
   "outputs": [],
   "source": []
  }
 ],
 "metadata": {
  "kernelspec": {
   "display_name": "Python 3 (ipykernel)",
   "language": "python",
   "name": "python3"
  },
  "language_info": {
   "codemirror_mode": {
    "name": "ipython",
    "version": 3
   },
   "file_extension": ".py",
   "mimetype": "text/x-python",
   "name": "python",
   "nbconvert_exporter": "python",
   "pygments_lexer": "ipython3",
   "version": "3.9.16"
  }
 },
 "nbformat": 4,
 "nbformat_minor": 5
}
